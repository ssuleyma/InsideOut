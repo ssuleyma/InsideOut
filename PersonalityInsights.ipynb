{
    "nbformat_minor": 1, 
    "cells": [
        {
            "source": "# 1. Importing Libraries", 
            "cell_type": "markdown", 
            "metadata": {}
        }, 
        {
            "execution_count": 1, 
            "cell_type": "code", 
            "metadata": {}, 
            "outputs": [], 
            "source": "# The code was removed by Watson Studio for sharing."
        }, 
        {
            "execution_count": 2, 
            "cell_type": "code", 
            "metadata": {}, 
            "outputs": [], 
            "source": "#!pip install --upgrade \"watson-developer-cloud>=2.5.1\"\nfrom watson_developer_cloud import PersonalityInsightsV3\n\nimport json\nfrom os.path import join\n\nimport pandas as pd\nfrom pandas.io.json import json_normalize\n\nimport numpy as np"
        }, 
        {
            "source": "# 2. PDF to TXT", 
            "cell_type": "markdown", 
            "metadata": {}
        }, 
        {
            "execution_count": 3, 
            "cell_type": "code", 
            "metadata": {}, 
            "outputs": [], 
            "source": "#!pip install pdfminer.six\n#import pdfminer\n#pdf2txt.py ycombinator-sam-altman.pdf > ycombinator-sam-altman.txt"
        }, 
        {
            "source": "# 3. Data Files", 
            "cell_type": "markdown", 
            "metadata": {}
        }, 
        {
            "execution_count": 4, 
            "cell_type": "code", 
            "metadata": {}, 
            "outputs": [
                {
                    "output_type": "stream", 
                    "name": "stdout", 
                    "text": "['instagram-kevin-systrom.txt', 'facebook-mark-zuckerberg.txt', 'spotify-daniel-ek.txt', 'twitter-ev-williams.txt']\n"
                }
            ], 
            "source": "#!git clone https://github.com/ssuleyma/InsideOut.git\npath ='./InsideOut/Transcripts/'\nfiles = os.listdir(path=path)\nprint(files)"
        }, 
        {
            "source": "# 4. Watson Personality Insights (WPI) Authentication ", 
            "cell_type": "markdown", 
            "metadata": {}
        }, 
        {
            "execution_count": 5, 
            "cell_type": "code", 
            "metadata": {}, 
            "outputs": [], 
            "source": "pi_version = \"2017-10-13\"\npi_api_key = \"\"\npi_url = \"https://gateway.watsonplatform.net/personality-insights/api\"\n\npersonality_insights = PersonalityInsightsV3(\n    version = pi_version,\n    iam_apikey = pi_api_key,\n    url = pi_url\n)\n\npersonality_insights.set_detailed_response(True)\npersonality_insights.set_default_headers({'x-watson-learning-opt-out': \"true\"})"
        }, 
        {
            "source": "# 5. Analysis by WPI", 
            "cell_type": "markdown", 
            "metadata": {}
        }, 
        {
            "execution_count": 6, 
            "cell_type": "code", 
            "metadata": {}, 
            "outputs": [], 
            "source": "candidates_df = pd.DataFrame()\nfor i,f in enumerate(files):\n    with open(join(path, f)) as profile_txt:\n        profile = personality_insights.profile(profile_txt.read(),\n                                               content_type='text/plain',\n                                               accept='application/json',\n                                               consumption_preferences=True,\n                                               raw_scores=True).get_result()\n        \n        candidates_df = candidates_df.append(json_normalize(profile),ignore_index=True,sort=False)\n        candidates_df.loc[i,'file'] = f"
        }, 
        {
            "execution_count": 7, 
            "cell_type": "code", 
            "metadata": {}, 
            "outputs": [], 
            "source": "candidates_df.drop(columns=['processed_language','warnings'],inplace=True)"
        }, 
        {
            "execution_count": 8, 
            "cell_type": "code", 
            "metadata": {}, 
            "outputs": [
                {
                    "execution_count": 8, 
                    "metadata": {}, 
                    "data": {
                        "text/html": "<div>\n<style scoped>\n    .dataframe tbody tr th:only-of-type {\n        vertical-align: middle;\n    }\n\n    .dataframe tbody tr th {\n        vertical-align: top;\n    }\n\n    .dataframe thead th {\n        text-align: right;\n    }\n</style>\n<table border=\"1\" class=\"dataframe\">\n  <thead>\n    <tr style=\"text-align: right;\">\n      <th></th>\n      <th>consumption_preferences</th>\n      <th>needs</th>\n      <th>personality</th>\n      <th>values</th>\n      <th>word_count</th>\n      <th>file</th>\n    </tr>\n  </thead>\n  <tbody>\n    <tr>\n      <th>0</th>\n      <td>[{'consumption_preference_category_id': 'consu...</td>\n      <td>[{'category': 'needs', 'name': 'Challenge', 's...</td>\n      <td>[{'category': 'personality', 'children': [{'ca...</td>\n      <td>[{'category': 'values', 'name': 'Conservation'...</td>\n      <td>2732</td>\n      <td>instagram-kevin-systrom.txt</td>\n    </tr>\n    <tr>\n      <th>1</th>\n      <td>[{'consumption_preference_category_id': 'consu...</td>\n      <td>[{'category': 'needs', 'name': 'Challenge', 's...</td>\n      <td>[{'category': 'personality', 'children': [{'ca...</td>\n      <td>[{'category': 'values', 'name': 'Conservation'...</td>\n      <td>2517</td>\n      <td>facebook-mark-zuckerberg.txt</td>\n    </tr>\n    <tr>\n      <th>2</th>\n      <td>[{'consumption_preference_category_id': 'consu...</td>\n      <td>[{'category': 'needs', 'name': 'Challenge', 's...</td>\n      <td>[{'category': 'personality', 'children': [{'ca...</td>\n      <td>[{'category': 'values', 'name': 'Conservation'...</td>\n      <td>1854</td>\n      <td>spotify-daniel-ek.txt</td>\n    </tr>\n    <tr>\n      <th>3</th>\n      <td>[{'consumption_preference_category_id': 'consu...</td>\n      <td>[{'category': 'needs', 'name': 'Challenge', 's...</td>\n      <td>[{'category': 'personality', 'children': [{'ca...</td>\n      <td>[{'category': 'values', 'name': 'Conservation'...</td>\n      <td>2852</td>\n      <td>twitter-ev-williams.txt</td>\n    </tr>\n  </tbody>\n</table>\n</div>", 
                        "text/plain": "                             consumption_preferences  \\\n0  [{'consumption_preference_category_id': 'consu...   \n1  [{'consumption_preference_category_id': 'consu...   \n2  [{'consumption_preference_category_id': 'consu...   \n3  [{'consumption_preference_category_id': 'consu...   \n\n                                               needs  \\\n0  [{'category': 'needs', 'name': 'Challenge', 's...   \n1  [{'category': 'needs', 'name': 'Challenge', 's...   \n2  [{'category': 'needs', 'name': 'Challenge', 's...   \n3  [{'category': 'needs', 'name': 'Challenge', 's...   \n\n                                         personality  \\\n0  [{'category': 'personality', 'children': [{'ca...   \n1  [{'category': 'personality', 'children': [{'ca...   \n2  [{'category': 'personality', 'children': [{'ca...   \n3  [{'category': 'personality', 'children': [{'ca...   \n\n                                              values  word_count  \\\n0  [{'category': 'values', 'name': 'Conservation'...        2732   \n1  [{'category': 'values', 'name': 'Conservation'...        2517   \n2  [{'category': 'values', 'name': 'Conservation'...        1854   \n3  [{'category': 'values', 'name': 'Conservation'...        2852   \n\n                           file  \n0   instagram-kevin-systrom.txt  \n1  facebook-mark-zuckerberg.txt  \n2         spotify-daniel-ek.txt  \n3       twitter-ev-williams.txt  "
                    }, 
                    "output_type": "execute_result"
                }
            ], 
            "source": "candidates_df.head()"
        }, 
        {
            "execution_count": 10, 
            "cell_type": "code", 
            "metadata": {}, 
            "outputs": [
                {
                    "execution_count": 10, 
                    "metadata": {}, 
                    "data": {
                        "text/plain": "{'asset_id': '36131aed-e240-4df3-a8e8-5d9963aafb07',\n 'bucket_name': 'insideout-donotdelete-pr-arlsgjghrogjm7',\n 'file_name': 'candidates_df.csv',\n 'message': 'File candidates_df.csv has been written successfully to the associated OS'}"
                    }, 
                    "output_type": "execute_result"
                }
            ], 
            "source": "project.save_data('candidates_df.csv',candidates_df.to_csv(index=False),overwrite=True)"
        }, 
        {
            "source": "# 6. Data Cleaning", 
            "cell_type": "markdown", 
            "metadata": {}
        }, 
        {
            "execution_count": null, 
            "cell_type": "code", 
            "metadata": {}, 
            "outputs": [], 
            "source": ""
        }, 
        {
            "execution_count": null, 
            "cell_type": "code", 
            "metadata": {}, 
            "outputs": [], 
            "source": ""
        }, 
        {
            "execution_count": null, 
            "cell_type": "code", 
            "metadata": {}, 
            "outputs": [], 
            "source": ""
        }, 
        {
            "source": "# 7. Exploratory Data Analysis", 
            "cell_type": "markdown", 
            "metadata": {}
        }, 
        {
            "execution_count": null, 
            "cell_type": "code", 
            "metadata": {}, 
            "outputs": [], 
            "source": ""
        }
    ], 
    "metadata": {
        "kernelspec": {
            "display_name": "Python 3.5 with Spark 2.1", 
            "name": "python3-spark21", 
            "language": "python"
        }, 
        "language_info": {
            "mimetype": "text/x-python", 
            "nbconvert_exporter": "python", 
            "version": "3.5.4", 
            "name": "python", 
            "file_extension": ".py", 
            "pygments_lexer": "ipython3", 
            "codemirror_mode": {
                "version": 3, 
                "name": "ipython"
            }
        }
    }, 
    "nbformat": 4
}