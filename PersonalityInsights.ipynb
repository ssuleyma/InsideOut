{
    "nbformat_minor": 1, 
    "cells": [
        {
            "source": "<h1><center>INSIDE OUT - People Analytics for Talent Acquisition </center></h1>", 
            "cell_type": "markdown", 
            "metadata": {}
        }, 
        {
            "source": "There is no AI without IA. 71% of companies see people analytics as a high priority, but organisations still struggle. [Deloitte](https://www2.deloitte.com/global/en/pages/human-capital/topics/human-capital-trends.html) reports that as little as 8% of organisations surveyed believe they have usable data. \n\nInside Out powered by Watson Personality Insights will enable companies to capture the interactions with candidates and transform them into data points. \nThese analytics metrics will be fed into algorithms that will identify higher-quality talents matching the specific company and team.\n\n<img src=\"https://images.hrtechnologist.com/images/uploads/content_images/peopleanalyticshrnews_5915a0f280b22.jpg\" alt=\"PI\" style=\"width:1000px; height:500px\">", 
            "cell_type": "markdown", 
            "metadata": {}
        }, 
        {
            "source": "<a id=\"top\"></a>\n<h3>Table of Contents</h3>\n\n[1. Setup](#setup)<br>\n[2. Acquiring the Data](#acquire)<br>\n[3. Watson Personality Insights](#wpi)<br>\n[4. Data Wrangling and Exploration](#eda)<br>\n[5. IBM 1-3-9](#ibm139)<br>\n[6. Team Match](#team)<br>\n[7. Compare Candidates](#compare)<br>", 
            "cell_type": "markdown", 
            "metadata": {}
        }, 
        {
            "source": "**NOTE:** \nReading transcripts is recommended. It helps to understand the results better.", 
            "cell_type": "markdown", 
            "metadata": {}
        }, 
        {
            "source": "<a id=\"setup\"></a>\n# 1. Setup", 
            "cell_type": "markdown", 
            "metadata": {}
        }, 
        {
            "execution_count": 1, 
            "cell_type": "code", 
            "metadata": {}, 
            "outputs": [], 
            "source": "# The code was removed by Watson Studio for sharing."
        }, 
        {
            "execution_count": 2, 
            "cell_type": "code", 
            "metadata": {}, 
            "outputs": [], 
            "source": "#!pip install --upgrade \"watson-developer-cloud>=2.5.1\"\nfrom watson_developer_cloud import PersonalityInsightsV3\n\nimport json\nfrom os.path import join\n\nimport pandas as pd\nfrom pandas.io.json import json_normalize\nfrom functools import reduce\n\nimport numpy as np"
        }, 
        {
            "source": "[Back to Top](#top)", 
            "cell_type": "markdown", 
            "metadata": {}
        }, 
        {
            "source": "<a id=\"acquire\"></a>\n# 2.  Acquiring the Data\n\n## 2.1. Data Files: PDF to TXT", 
            "cell_type": "markdown", 
            "metadata": {}
        }, 
        {
            "execution_count": 3, 
            "cell_type": "code", 
            "metadata": {}, 
            "outputs": [], 
            "source": "#!pip install pdfminer.six\n#import pdfminer\n#pdf2txt.py ycombinator-sam-altman.pdf > ycombinator-sam-altman.txt"
        }, 
        {
            "execution_count": 8, 
            "cell_type": "code", 
            "metadata": {}, 
            "outputs": [
                {
                    "output_type": "stream", 
                    "name": "stdout", 
                    "text": "['taskrabbit-stacy-brownphilpot.txt', 'instagram-kevin-systrom.txt', 'huffington-arianna-huffington.txt', 'facebook-mark-zuckerberg.txt', 'spotify-daniel-ek.txt', 'twitter-ev-williams.txt', 'lumilabs-marissa-mayer.txt']\n"
                }
            ], 
            "source": "#!git clone https://github.com/ssuleyma/InsideOut.git\npath ='./InsideOut/Transcripts/'\nfiles = os.listdir(path=path)\nprint(files)"
        }, 
        {
            "source": "[Back to Top](#top)", 
            "cell_type": "markdown", 
            "metadata": {}
        }, 
        {
            "source": "<a id=\"wpi\"></a>\n# 3. Watson Personality Insights [DO NOT RUN]", 
            "cell_type": "markdown", 
            "metadata": {}
        }, 
        {
            "source": "<img src=\"https://www.easydna.ca/wp-content/uploads/2018/03/the_big_five1.png\" alt=\"Big Five\" style=\"width: 400px; height: 400px;\"/>", 
            "cell_type": "markdown", 
            "metadata": {}
        }, 
        {
            "execution_count": 9, 
            "cell_type": "code", 
            "metadata": {}, 
            "outputs": [], 
            "source": "pi_version = \"2017-10-13\"\npi_api_key = \"your apikey\"\npi_url = \"https://gateway.watsonplatform.net/personality-insights/api\"\n\npersonality_insights = PersonalityInsightsV3(\n    version = pi_version,\n    iam_apikey = pi_api_key,\n    url = pi_url\n)\n\npersonality_insights.set_detailed_response(True)\npersonality_insights.set_default_headers({'x-watson-learning-opt-out': \"true\"})"
        }, 
        {
            "execution_count": 10, 
            "cell_type": "code", 
            "metadata": {}, 
            "outputs": [], 
            "source": "candidates_df = pd.DataFrame()\nfor i,f in enumerate(files):\n    with open(join(path, f)) as profile_txt:\n        profile = personality_insights.profile(profile_txt.read(),\n                                               content_type='text/plain',\n                                               accept='application/json',\n                                               consumption_preferences=True,\n                                               raw_scores=True).get_result()\n        \n        candidates_df = candidates_df.append(json_normalize(profile),ignore_index=True,sort=False)\n        candidates_df.loc[i,'Name'] = f"
        }, 
        {
            "execution_count": 11, 
            "cell_type": "code", 
            "metadata": {}, 
            "outputs": [], 
            "source": "candidates_df.drop(columns=['processed_language','warnings'],inplace=True)"
        }, 
        {
            "execution_count": 12, 
            "cell_type": "code", 
            "metadata": {}, 
            "outputs": [], 
            "source": "candidates_df['Name'] = candidates_df['Name'].apply(lambda s: s.split(\"-\")[1].title() + \" \" + s.split(\"-\")[2].split(\".\")[0].title())"
        }, 
        {
            "execution_count": 13, 
            "cell_type": "code", 
            "metadata": {}, 
            "outputs": [
                {
                    "execution_count": 13, 
                    "metadata": {}, 
                    "data": {
                        "text/html": "<div>\n<style scoped>\n    .dataframe tbody tr th:only-of-type {\n        vertical-align: middle;\n    }\n\n    .dataframe tbody tr th {\n        vertical-align: top;\n    }\n\n    .dataframe thead th {\n        text-align: right;\n    }\n</style>\n<table border=\"1\" class=\"dataframe\">\n  <thead>\n    <tr style=\"text-align: right;\">\n      <th></th>\n      <th>consumption_preferences</th>\n      <th>needs</th>\n      <th>personality</th>\n      <th>values</th>\n      <th>word_count</th>\n      <th>Name</th>\n    </tr>\n  </thead>\n  <tbody>\n    <tr>\n      <th>0</th>\n      <td>[{'consumption_preference_category_id': 'consu...</td>\n      <td>[{'category': 'needs', 'name': 'Challenge', 's...</td>\n      <td>[{'category': 'personality', 'children': [{'ca...</td>\n      <td>[{'category': 'values', 'name': 'Conservation'...</td>\n      <td>1828</td>\n      <td>Stacy Brownphilpot</td>\n    </tr>\n    <tr>\n      <th>1</th>\n      <td>[{'consumption_preference_category_id': 'consu...</td>\n      <td>[{'category': 'needs', 'name': 'Challenge', 's...</td>\n      <td>[{'category': 'personality', 'children': [{'ca...</td>\n      <td>[{'category': 'values', 'name': 'Conservation'...</td>\n      <td>2732</td>\n      <td>Kevin Systrom</td>\n    </tr>\n    <tr>\n      <th>2</th>\n      <td>[{'consumption_preference_category_id': 'consu...</td>\n      <td>[{'category': 'needs', 'name': 'Challenge', 's...</td>\n      <td>[{'category': 'personality', 'children': [{'ca...</td>\n      <td>[{'category': 'values', 'name': 'Conservation'...</td>\n      <td>2167</td>\n      <td>Arianna Huffington</td>\n    </tr>\n    <tr>\n      <th>3</th>\n      <td>[{'consumption_preference_category_id': 'consu...</td>\n      <td>[{'category': 'needs', 'name': 'Challenge', 's...</td>\n      <td>[{'category': 'personality', 'children': [{'ca...</td>\n      <td>[{'category': 'values', 'name': 'Conservation'...</td>\n      <td>2517</td>\n      <td>Mark Zuckerberg</td>\n    </tr>\n    <tr>\n      <th>4</th>\n      <td>[{'consumption_preference_category_id': 'consu...</td>\n      <td>[{'category': 'needs', 'name': 'Challenge', 's...</td>\n      <td>[{'category': 'personality', 'children': [{'ca...</td>\n      <td>[{'category': 'values', 'name': 'Conservation'...</td>\n      <td>1854</td>\n      <td>Daniel Ek</td>\n    </tr>\n  </tbody>\n</table>\n</div>", 
                        "text/plain": "                             consumption_preferences  \\\n0  [{'consumption_preference_category_id': 'consu...   \n1  [{'consumption_preference_category_id': 'consu...   \n2  [{'consumption_preference_category_id': 'consu...   \n3  [{'consumption_preference_category_id': 'consu...   \n4  [{'consumption_preference_category_id': 'consu...   \n\n                                               needs  \\\n0  [{'category': 'needs', 'name': 'Challenge', 's...   \n1  [{'category': 'needs', 'name': 'Challenge', 's...   \n2  [{'category': 'needs', 'name': 'Challenge', 's...   \n3  [{'category': 'needs', 'name': 'Challenge', 's...   \n4  [{'category': 'needs', 'name': 'Challenge', 's...   \n\n                                         personality  \\\n0  [{'category': 'personality', 'children': [{'ca...   \n1  [{'category': 'personality', 'children': [{'ca...   \n2  [{'category': 'personality', 'children': [{'ca...   \n3  [{'category': 'personality', 'children': [{'ca...   \n4  [{'category': 'personality', 'children': [{'ca...   \n\n                                              values  word_count  \\\n0  [{'category': 'values', 'name': 'Conservation'...        1828   \n1  [{'category': 'values', 'name': 'Conservation'...        2732   \n2  [{'category': 'values', 'name': 'Conservation'...        2167   \n3  [{'category': 'values', 'name': 'Conservation'...        2517   \n4  [{'category': 'values', 'name': 'Conservation'...        1854   \n\n                 Name  \n0  Stacy Brownphilpot  \n1       Kevin Systrom  \n2  Arianna Huffington  \n3     Mark Zuckerberg  \n4           Daniel Ek  "
                    }, 
                    "output_type": "execute_result"
                }
            ], 
            "source": "candidates_df.head()"
        }, 
        {
            "execution_count": 14, 
            "cell_type": "code", 
            "metadata": {}, 
            "outputs": [
                {
                    "execution_count": 14, 
                    "metadata": {}, 
                    "data": {
                        "text/plain": "{'asset_id': '36131aed-e240-4df3-a8e8-5d9963aafb07',\n 'bucket_name': 'insideout-donotdelete-pr-arlsgjghrogjm7',\n 'file_name': 'candidates_df.csv',\n 'message': 'File candidates_df.csv has been written successfully to the associated OS'}"
                    }, 
                    "output_type": "execute_result"
                }
            ], 
            "source": "project.save_data('candidates_df.csv',candidates_df.to_csv(index=False),overwrite=True)"
        }, 
        {
            "source": "[Back to Top](#top)", 
            "cell_type": "markdown", 
            "metadata": {}
        }, 
        {
            "source": "<a id =\"eda\"></a>\n# 4. Data Wrangling and Exploration\n\n## 4.1. Data Wrangling", 
            "cell_type": "markdown", 
            "metadata": {}
        }, 
        {
            "execution_count": 15, 
            "cell_type": "code", 
            "metadata": {}, 
            "outputs": [
                {
                    "execution_count": 15, 
                    "metadata": {}, 
                    "data": {
                        "text/html": "<div>\n<style scoped>\n    .dataframe tbody tr th:only-of-type {\n        vertical-align: middle;\n    }\n\n    .dataframe tbody tr th {\n        vertical-align: top;\n    }\n\n    .dataframe thead th {\n        text-align: right;\n    }\n</style>\n<table border=\"1\" class=\"dataframe\">\n  <thead>\n    <tr style=\"text-align: right;\">\n      <th></th>\n      <th>consumption_preferences</th>\n      <th>needs</th>\n      <th>personality</th>\n      <th>values</th>\n      <th>word_count</th>\n      <th>Name</th>\n    </tr>\n  </thead>\n  <tbody>\n    <tr>\n      <th>0</th>\n      <td>[{'consumption_preference_category_id': 'consu...</td>\n      <td>[{'category': 'needs', 'name': 'Challenge', 's...</td>\n      <td>[{'category': 'personality', 'children': [{'ca...</td>\n      <td>[{'category': 'values', 'name': 'Conservation'...</td>\n      <td>1828</td>\n      <td>Stacy Brownphilpot</td>\n    </tr>\n    <tr>\n      <th>1</th>\n      <td>[{'consumption_preference_category_id': 'consu...</td>\n      <td>[{'category': 'needs', 'name': 'Challenge', 's...</td>\n      <td>[{'category': 'personality', 'children': [{'ca...</td>\n      <td>[{'category': 'values', 'name': 'Conservation'...</td>\n      <td>2732</td>\n      <td>Kevin Systrom</td>\n    </tr>\n    <tr>\n      <th>2</th>\n      <td>[{'consumption_preference_category_id': 'consu...</td>\n      <td>[{'category': 'needs', 'name': 'Challenge', 's...</td>\n      <td>[{'category': 'personality', 'children': [{'ca...</td>\n      <td>[{'category': 'values', 'name': 'Conservation'...</td>\n      <td>2167</td>\n      <td>Arianna Huffington</td>\n    </tr>\n    <tr>\n      <th>3</th>\n      <td>[{'consumption_preference_category_id': 'consu...</td>\n      <td>[{'category': 'needs', 'name': 'Challenge', 's...</td>\n      <td>[{'category': 'personality', 'children': [{'ca...</td>\n      <td>[{'category': 'values', 'name': 'Conservation'...</td>\n      <td>2517</td>\n      <td>Mark Zuckerberg</td>\n    </tr>\n    <tr>\n      <th>4</th>\n      <td>[{'consumption_preference_category_id': 'consu...</td>\n      <td>[{'category': 'needs', 'name': 'Challenge', 's...</td>\n      <td>[{'category': 'personality', 'children': [{'ca...</td>\n      <td>[{'category': 'values', 'name': 'Conservation'...</td>\n      <td>1854</td>\n      <td>Daniel Ek</td>\n    </tr>\n  </tbody>\n</table>\n</div>", 
                        "text/plain": "                             consumption_preferences  \\\n0  [{'consumption_preference_category_id': 'consu...   \n1  [{'consumption_preference_category_id': 'consu...   \n2  [{'consumption_preference_category_id': 'consu...   \n3  [{'consumption_preference_category_id': 'consu...   \n4  [{'consumption_preference_category_id': 'consu...   \n\n                                               needs  \\\n0  [{'category': 'needs', 'name': 'Challenge', 's...   \n1  [{'category': 'needs', 'name': 'Challenge', 's...   \n2  [{'category': 'needs', 'name': 'Challenge', 's...   \n3  [{'category': 'needs', 'name': 'Challenge', 's...   \n4  [{'category': 'needs', 'name': 'Challenge', 's...   \n\n                                         personality  \\\n0  [{'category': 'personality', 'children': [{'ca...   \n1  [{'category': 'personality', 'children': [{'ca...   \n2  [{'category': 'personality', 'children': [{'ca...   \n3  [{'category': 'personality', 'children': [{'ca...   \n4  [{'category': 'personality', 'children': [{'ca...   \n\n                                              values  word_count  \\\n0  [{'category': 'values', 'name': 'Conservation'...        1828   \n1  [{'category': 'values', 'name': 'Conservation'...        2732   \n2  [{'category': 'values', 'name': 'Conservation'...        2167   \n3  [{'category': 'values', 'name': 'Conservation'...        2517   \n4  [{'category': 'values', 'name': 'Conservation'...        1854   \n\n                 Name  \n0  Stacy Brownphilpot  \n1       Kevin Systrom  \n2  Arianna Huffington  \n3     Mark Zuckerberg  \n4           Daniel Ek  "
                    }, 
                    "output_type": "execute_result"
                }
            ], 
            "source": "# The code was removed by Watson Studio for sharing."
        }, 
        {
            "execution_count": 16, 
            "cell_type": "code", 
            "metadata": {}, 
            "outputs": [], 
            "source": "def insights_to_df(insight, candidates):\n    \"\"\"\n    Returns a dataframe of needs, values or personality raw scores.\n    \n    insight - \"needs\", \"values\", \"personality\"\n    candidates - dataframe of candidates\n    \"\"\"\n    n_v_df = pd.DataFrame()\n    for r in candidates.index:\n        d = pd.DataFrame(eval(candidates.copy().loc[r,insight]))[['name','raw_score']]\n        d = d.set_index('name').T.reset_index(drop=True)\n        d['Name'] = candidates.loc[r,'Name']\n        n_v_df = n_v_df.append(d,ignore_index=True)\n    n_v_df.columns.name = \"\"\n    return n_v_df\n\ndef consumption(candidates):\n    \"\"\"\n    Returns a dataframe of positive consumption preferences of candidates.\n    \n    candidates - dataframe of candidates\n    \"\"\"\n    c_df = pd.DataFrame()\n    for r in candidates.index:\n        d = pd.DataFrame(eval(candidates.copy().loc[r,'consumption_preferences'])).drop(columns=['consumption_preference_category_id'])\n        d['consumption_preferences'] = d['consumption_preferences'].apply(lambda l: [p['consumption_preference_id'][24:] for p in l if p['score'] >= 0.5])\n        d = d[~d['name'].isin(['Music Preferences','Purchasing Preferences'])]\n        d = d.set_index('name').T.reset_index(drop=True)\n        d['Name'] = candidates.loc[r,'Name']\n        c_df = c_df.append(d,ignore_index=True)\n    c_df.columns.name = \"\"\n    return c_df\n\ndef personality_details(candidates):\n    \"\"\"\n    Returns dataframes of raw scores for each of the Big 5 traits.\n    \n    candidates - dataframe of candidates\n    \"\"\"\n    open_df = pd.DataFrame()\n    cons_df = pd.DataFrame()\n    extra_df = pd.DataFrame()\n    agree_df = pd.DataFrame()\n    emotion_df = pd.DataFrame()\n    \n    for r in candidates.index:\n        for t in range(0,5):\n            t_name = eval(candidates_df.loc[r,'personality'])[t]['name']\n            d = pd.DataFrame(eval(candidates_df.loc[r,'personality'])[t]['children'])[['name','raw_score']]\n            d = d.set_index('name').T.reset_index(drop=True)\n            d['Name'] = candidates.loc[r,'Name']\n            \n            if t_name == 'Openness':\n                open_df = open_df.append(d,ignore_index=True)\n            elif t_name == 'Conscientiousness':\n                cons_df = cons_df.append(d,ignore_index=True)\n            elif t_name == 'Extraversion':\n                extra_df = extra_df.append(d,ignore_index=True)\n            elif t_name == 'Agreeableness':\n                agree_df = agree_df.append(d,ignore_index=True)\n            elif t_name == 'Emotional range':\n                emotion_df = emotion_df.append(d,ignore_index=True)\n                \n    open_df.columns.name = \"\"\n    cons_df.columns.name = \"\"\n    extra_df.columns.name = \"\"\n    agree_df.columns.name = \"\"\n    emotion_df.columns.name = \"\"\n    \n    return  open_df,cons_df,extra_df,agree_df,emotion_df"
        }, 
        {
            "execution_count": 17, 
            "cell_type": "code", 
            "metadata": {}, 
            "outputs": [], 
            "source": "needs_df = insights_to_df('needs',candidates_df)\nvalues_df = insights_to_df('values',candidates_df)\nconsumption_df = consumption(candidates_df)\nall_personality_df = insights_to_df('personality',candidates_df)\nopenness_df, conscientiousness_df, extraversion_df, agreeableness_df, emotional_range_df = personality_details(candidates_df)"
        }, 
        {
            "source": "## 4.2. Exploratory Data Analysis", 
            "cell_type": "markdown", 
            "metadata": {}
        }, 
        {
            "execution_count": 18, 
            "cell_type": "code", 
            "metadata": {}, 
            "outputs": [
                {
                    "execution_count": 18, 
                    "metadata": {}, 
                    "data": {
                        "text/html": "<div>\n<style scoped>\n    .dataframe tbody tr th:only-of-type {\n        vertical-align: middle;\n    }\n\n    .dataframe tbody tr th {\n        vertical-align: top;\n    }\n\n    .dataframe thead th {\n        text-align: right;\n    }\n</style>\n<table border=\"1\" class=\"dataframe\">\n  <thead>\n    <tr style=\"text-align: right;\">\n      <th></th>\n      <th>Challenge</th>\n      <th>Closeness</th>\n      <th>Curiosity</th>\n      <th>Excitement</th>\n      <th>Harmony</th>\n      <th>Ideal</th>\n      <th>Liberty</th>\n      <th>Love</th>\n      <th>Practicality</th>\n      <th>Self-expression</th>\n      <th>Stability</th>\n      <th>Structure</th>\n      <th>Name</th>\n    </tr>\n  </thead>\n  <tbody>\n    <tr>\n      <th>0</th>\n      <td>0.732572</td>\n      <td>0.749537</td>\n      <td>0.833941</td>\n      <td>0.593045</td>\n      <td>0.771311</td>\n      <td>0.675777</td>\n      <td>0.711317</td>\n      <td>0.712801</td>\n      <td>0.699369</td>\n      <td>0.624175</td>\n      <td>0.721488</td>\n      <td>0.725894</td>\n      <td>Stacy Brownphilpot</td>\n    </tr>\n    <tr>\n      <th>1</th>\n      <td>0.687388</td>\n      <td>0.737678</td>\n      <td>0.827021</td>\n      <td>0.553379</td>\n      <td>0.758527</td>\n      <td>0.643312</td>\n      <td>0.694281</td>\n      <td>0.691013</td>\n      <td>0.697178</td>\n      <td>0.646145</td>\n      <td>0.707389</td>\n      <td>0.694753</td>\n      <td>Kevin Systrom</td>\n    </tr>\n    <tr>\n      <th>2</th>\n      <td>0.727210</td>\n      <td>0.766896</td>\n      <td>0.845312</td>\n      <td>0.618490</td>\n      <td>0.799150</td>\n      <td>0.667004</td>\n      <td>0.718663</td>\n      <td>0.745111</td>\n      <td>0.713351</td>\n      <td>0.651702</td>\n      <td>0.728604</td>\n      <td>0.714364</td>\n      <td>Arianna Huffington</td>\n    </tr>\n    <tr>\n      <th>3</th>\n      <td>0.729555</td>\n      <td>0.705474</td>\n      <td>0.834953</td>\n      <td>0.575228</td>\n      <td>0.740460</td>\n      <td>0.643764</td>\n      <td>0.698083</td>\n      <td>0.672824</td>\n      <td>0.700580</td>\n      <td>0.613063</td>\n      <td>0.695070</td>\n      <td>0.714984</td>\n      <td>Mark Zuckerberg</td>\n    </tr>\n    <tr>\n      <th>4</th>\n      <td>0.705916</td>\n      <td>0.734802</td>\n      <td>0.833490</td>\n      <td>0.580611</td>\n      <td>0.765428</td>\n      <td>0.656928</td>\n      <td>0.703968</td>\n      <td>0.696026</td>\n      <td>0.705324</td>\n      <td>0.623352</td>\n      <td>0.701928</td>\n      <td>0.709038</td>\n      <td>Daniel Ek</td>\n    </tr>\n    <tr>\n      <th>5</th>\n      <td>0.709902</td>\n      <td>0.723402</td>\n      <td>0.843319</td>\n      <td>0.544000</td>\n      <td>0.748655</td>\n      <td>0.668819</td>\n      <td>0.695866</td>\n      <td>0.696311</td>\n      <td>0.699126</td>\n      <td>0.627310</td>\n      <td>0.690413</td>\n      <td>0.701614</td>\n      <td>Ev Williams</td>\n    </tr>\n    <tr>\n      <th>6</th>\n      <td>0.707680</td>\n      <td>0.726441</td>\n      <td>0.829060</td>\n      <td>0.543280</td>\n      <td>0.754978</td>\n      <td>0.649147</td>\n      <td>0.693459</td>\n      <td>0.679617</td>\n      <td>0.700173</td>\n      <td>0.625493</td>\n      <td>0.694059</td>\n      <td>0.708965</td>\n      <td>Marissa Mayer</td>\n    </tr>\n  </tbody>\n</table>\n</div>", 
                        "text/plain": "   Challenge  Closeness  Curiosity  Excitement   Harmony     Ideal   Liberty  \\\n0   0.732572   0.749537   0.833941    0.593045  0.771311  0.675777  0.711317   \n1   0.687388   0.737678   0.827021    0.553379  0.758527  0.643312  0.694281   \n2   0.727210   0.766896   0.845312    0.618490  0.799150  0.667004  0.718663   \n3   0.729555   0.705474   0.834953    0.575228  0.740460  0.643764  0.698083   \n4   0.705916   0.734802   0.833490    0.580611  0.765428  0.656928  0.703968   \n5   0.709902   0.723402   0.843319    0.544000  0.748655  0.668819  0.695866   \n6   0.707680   0.726441   0.829060    0.543280  0.754978  0.649147  0.693459   \n\n       Love  Practicality  Self-expression  Stability  Structure  \\\n0  0.712801      0.699369         0.624175   0.721488   0.725894   \n1  0.691013      0.697178         0.646145   0.707389   0.694753   \n2  0.745111      0.713351         0.651702   0.728604   0.714364   \n3  0.672824      0.700580         0.613063   0.695070   0.714984   \n4  0.696026      0.705324         0.623352   0.701928   0.709038   \n5  0.696311      0.699126         0.627310   0.690413   0.701614   \n6  0.679617      0.700173         0.625493   0.694059   0.708965   \n\n                 Name  \n0  Stacy Brownphilpot  \n1       Kevin Systrom  \n2  Arianna Huffington  \n3     Mark Zuckerberg  \n4           Daniel Ek  \n5         Ev Williams  \n6       Marissa Mayer  "
                    }, 
                    "output_type": "execute_result"
                }
            ], 
            "source": "needs_df"
        }, 
        {
            "execution_count": 19, 
            "cell_type": "code", 
            "metadata": {}, 
            "outputs": [
                {
                    "execution_count": 19, 
                    "metadata": {}, 
                    "data": {
                        "text/html": "<div>\n<style scoped>\n    .dataframe tbody tr th:only-of-type {\n        vertical-align: middle;\n    }\n\n    .dataframe tbody tr th {\n        vertical-align: top;\n    }\n\n    .dataframe thead th {\n        text-align: right;\n    }\n</style>\n<table border=\"1\" class=\"dataframe\">\n  <thead>\n    <tr style=\"text-align: right;\">\n      <th></th>\n      <th>Conservation</th>\n      <th>Openness to change</th>\n      <th>Hedonism</th>\n      <th>Self-enhancement</th>\n      <th>Self-transcendence</th>\n      <th>Name</th>\n    </tr>\n  </thead>\n  <tbody>\n    <tr>\n      <th>0</th>\n      <td>0.631154</td>\n      <td>0.777917</td>\n      <td>0.631708</td>\n      <td>0.639579</td>\n      <td>0.834642</td>\n      <td>Stacy Brownphilpot</td>\n    </tr>\n    <tr>\n      <th>1</th>\n      <td>0.575899</td>\n      <td>0.766610</td>\n      <td>0.633714</td>\n      <td>0.652945</td>\n      <td>0.829168</td>\n      <td>Kevin Systrom</td>\n    </tr>\n    <tr>\n      <th>2</th>\n      <td>0.636515</td>\n      <td>0.784050</td>\n      <td>0.651688</td>\n      <td>0.661706</td>\n      <td>0.839432</td>\n      <td>Arianna Huffington</td>\n    </tr>\n    <tr>\n      <th>3</th>\n      <td>0.598660</td>\n      <td>0.782782</td>\n      <td>0.609476</td>\n      <td>0.656638</td>\n      <td>0.829649</td>\n      <td>Mark Zuckerberg</td>\n    </tr>\n    <tr>\n      <th>4</th>\n      <td>0.586833</td>\n      <td>0.771245</td>\n      <td>0.639145</td>\n      <td>0.661032</td>\n      <td>0.830876</td>\n      <td>Daniel Ek</td>\n    </tr>\n    <tr>\n      <th>5</th>\n      <td>0.556791</td>\n      <td>0.775472</td>\n      <td>0.623224</td>\n      <td>0.655128</td>\n      <td>0.826246</td>\n      <td>Ev Williams</td>\n    </tr>\n    <tr>\n      <th>6</th>\n      <td>0.583031</td>\n      <td>0.788550</td>\n      <td>0.632841</td>\n      <td>0.657561</td>\n      <td>0.827496</td>\n      <td>Marissa Mayer</td>\n    </tr>\n  </tbody>\n</table>\n</div>", 
                        "text/plain": "   Conservation  Openness to change  Hedonism  Self-enhancement  \\\n0      0.631154            0.777917  0.631708          0.639579   \n1      0.575899            0.766610  0.633714          0.652945   \n2      0.636515            0.784050  0.651688          0.661706   \n3      0.598660            0.782782  0.609476          0.656638   \n4      0.586833            0.771245  0.639145          0.661032   \n5      0.556791            0.775472  0.623224          0.655128   \n6      0.583031            0.788550  0.632841          0.657561   \n\n   Self-transcendence                Name  \n0            0.834642  Stacy Brownphilpot  \n1            0.829168       Kevin Systrom  \n2            0.839432  Arianna Huffington  \n3            0.829649     Mark Zuckerberg  \n4            0.830876           Daniel Ek  \n5            0.826246         Ev Williams  \n6            0.827496       Marissa Mayer  "
                    }, 
                    "output_type": "execute_result"
                }
            ], 
            "source": "values_df"
        }, 
        {
            "execution_count": 20, 
            "cell_type": "code", 
            "metadata": {}, 
            "outputs": [
                {
                    "execution_count": 20, 
                    "metadata": {}, 
                    "data": {
                        "text/html": "<div>\n<style scoped>\n    .dataframe tbody tr th:only-of-type {\n        vertical-align: middle;\n    }\n\n    .dataframe tbody tr th {\n        vertical-align: top;\n    }\n\n    .dataframe thead th {\n        text-align: right;\n    }\n</style>\n<table border=\"1\" class=\"dataframe\">\n  <thead>\n    <tr style=\"text-align: right;\">\n      <th></th>\n      <th>Health &amp; Activity Preferences</th>\n      <th>Environmental Concern Preferences</th>\n      <th>Entrepreneurship Preferences</th>\n      <th>Movie Preferences</th>\n      <th>Reading Preferences</th>\n      <th>Volunteering Preferences</th>\n      <th>Name</th>\n    </tr>\n  </thead>\n  <tbody>\n    <tr>\n      <th>0</th>\n      <td>[outdoor]</td>\n      <td>[concerned_environment]</td>\n      <td>[start_business]</td>\n      <td>[movie_adventure, movie_historical, movie_scie...</td>\n      <td>[read_frequency, books_non_fiction]</td>\n      <td>[volunteer]</td>\n      <td>Stacy Brownphilpot</td>\n    </tr>\n    <tr>\n      <th>1</th>\n      <td>[outdoor]</td>\n      <td>[concerned_environment]</td>\n      <td>[start_business]</td>\n      <td>[movie_adventure, movie_musical, movie_histori...</td>\n      <td>[read_frequency, books_non_fiction, books_auto...</td>\n      <td>[volunteer]</td>\n      <td>Kevin Systrom</td>\n    </tr>\n    <tr>\n      <th>2</th>\n      <td>[outdoor]</td>\n      <td>[concerned_environment]</td>\n      <td>[start_business]</td>\n      <td>[movie_adventure, movie_science_fiction, movie...</td>\n      <td>[read_frequency, books_non_fiction]</td>\n      <td>[volunteer]</td>\n      <td>Arianna Huffington</td>\n    </tr>\n    <tr>\n      <th>3</th>\n      <td>[outdoor]</td>\n      <td>[concerned_environment]</td>\n      <td>[start_business]</td>\n      <td>[movie_adventure, movie_historical, movie_scie...</td>\n      <td>[read_frequency, books_non_fiction, books_fina...</td>\n      <td>[volunteer]</td>\n      <td>Mark Zuckerberg</td>\n    </tr>\n    <tr>\n      <th>4</th>\n      <td>[outdoor]</td>\n      <td>[concerned_environment]</td>\n      <td>[]</td>\n      <td>[movie_adventure, movie_musical, movie_histori...</td>\n      <td>[read_frequency, books_non_fiction, books_auto...</td>\n      <td>[volunteer]</td>\n      <td>Daniel Ek</td>\n    </tr>\n    <tr>\n      <th>5</th>\n      <td>[outdoor]</td>\n      <td>[concerned_environment]</td>\n      <td>[start_business]</td>\n      <td>[movie_adventure, movie_historical, movie_scie...</td>\n      <td>[read_frequency, books_non_fiction, books_fina...</td>\n      <td>[volunteer]</td>\n      <td>Ev Williams</td>\n    </tr>\n    <tr>\n      <th>6</th>\n      <td>[outdoor]</td>\n      <td>[concerned_environment]</td>\n      <td>[start_business]</td>\n      <td>[movie_adventure, movie_musical, movie_histori...</td>\n      <td>[read_frequency, books_non_fiction, books_auto...</td>\n      <td>[volunteer]</td>\n      <td>Marissa Mayer</td>\n    </tr>\n  </tbody>\n</table>\n</div>", 
                        "text/plain": "  Health & Activity Preferences Environmental Concern Preferences  \\\n0                     [outdoor]           [concerned_environment]   \n1                     [outdoor]           [concerned_environment]   \n2                     [outdoor]           [concerned_environment]   \n3                     [outdoor]           [concerned_environment]   \n4                     [outdoor]           [concerned_environment]   \n5                     [outdoor]           [concerned_environment]   \n6                     [outdoor]           [concerned_environment]   \n\n  Entrepreneurship Preferences  \\\n0             [start_business]   \n1             [start_business]   \n2             [start_business]   \n3             [start_business]   \n4                           []   \n5             [start_business]   \n6             [start_business]   \n\n                                   Movie Preferences  \\\n0  [movie_adventure, movie_historical, movie_scie...   \n1  [movie_adventure, movie_musical, movie_histori...   \n2  [movie_adventure, movie_science_fiction, movie...   \n3  [movie_adventure, movie_historical, movie_scie...   \n4  [movie_adventure, movie_musical, movie_histori...   \n5  [movie_adventure, movie_historical, movie_scie...   \n6  [movie_adventure, movie_musical, movie_histori...   \n\n                                 Reading Preferences Volunteering Preferences  \\\n0                [read_frequency, books_non_fiction]              [volunteer]   \n1  [read_frequency, books_non_fiction, books_auto...              [volunteer]   \n2                [read_frequency, books_non_fiction]              [volunteer]   \n3  [read_frequency, books_non_fiction, books_fina...              [volunteer]   \n4  [read_frequency, books_non_fiction, books_auto...              [volunteer]   \n5  [read_frequency, books_non_fiction, books_fina...              [volunteer]   \n6  [read_frequency, books_non_fiction, books_auto...              [volunteer]   \n\n                 Name  \n0  Stacy Brownphilpot  \n1       Kevin Systrom  \n2  Arianna Huffington  \n3     Mark Zuckerberg  \n4           Daniel Ek  \n5         Ev Williams  \n6       Marissa Mayer  "
                    }, 
                    "output_type": "execute_result"
                }
            ], 
            "source": "consumption_df"
        }, 
        {
            "execution_count": 21, 
            "cell_type": "code", 
            "metadata": {}, 
            "outputs": [
                {
                    "execution_count": 21, 
                    "metadata": {}, 
                    "data": {
                        "text/html": "<div>\n<style scoped>\n    .dataframe tbody tr th:only-of-type {\n        vertical-align: middle;\n    }\n\n    .dataframe tbody tr th {\n        vertical-align: top;\n    }\n\n    .dataframe thead th {\n        text-align: right;\n    }\n</style>\n<table border=\"1\" class=\"dataframe\">\n  <thead>\n    <tr style=\"text-align: right;\">\n      <th></th>\n      <th>Openness</th>\n      <th>Conscientiousness</th>\n      <th>Extraversion</th>\n      <th>Agreeableness</th>\n      <th>Emotional range</th>\n      <th>Name</th>\n    </tr>\n  </thead>\n  <tbody>\n    <tr>\n      <th>0</th>\n      <td>0.772982</td>\n      <td>0.649350</td>\n      <td>0.502878</td>\n      <td>0.738743</td>\n      <td>0.497555</td>\n      <td>Stacy Brownphilpot</td>\n    </tr>\n    <tr>\n      <th>1</th>\n      <td>0.800396</td>\n      <td>0.627016</td>\n      <td>0.523315</td>\n      <td>0.721635</td>\n      <td>0.497048</td>\n      <td>Kevin Systrom</td>\n    </tr>\n    <tr>\n      <th>2</th>\n      <td>0.787819</td>\n      <td>0.664589</td>\n      <td>0.540840</td>\n      <td>0.735884</td>\n      <td>0.481716</td>\n      <td>Arianna Huffington</td>\n    </tr>\n    <tr>\n      <th>3</th>\n      <td>0.795236</td>\n      <td>0.660267</td>\n      <td>0.512500</td>\n      <td>0.697280</td>\n      <td>0.497587</td>\n      <td>Mark Zuckerberg</td>\n    </tr>\n    <tr>\n      <th>4</th>\n      <td>0.791975</td>\n      <td>0.574534</td>\n      <td>0.455835</td>\n      <td>0.704284</td>\n      <td>0.473716</td>\n      <td>Daniel Ek</td>\n    </tr>\n    <tr>\n      <th>5</th>\n      <td>0.818073</td>\n      <td>0.633957</td>\n      <td>0.528237</td>\n      <td>0.721584</td>\n      <td>0.506147</td>\n      <td>Ev Williams</td>\n    </tr>\n    <tr>\n      <th>6</th>\n      <td>0.805419</td>\n      <td>0.644014</td>\n      <td>0.522950</td>\n      <td>0.721594</td>\n      <td>0.486634</td>\n      <td>Marissa Mayer</td>\n    </tr>\n  </tbody>\n</table>\n</div>", 
                        "text/plain": "   Openness  Conscientiousness  Extraversion  Agreeableness  Emotional range  \\\n0  0.772982           0.649350      0.502878       0.738743         0.497555   \n1  0.800396           0.627016      0.523315       0.721635         0.497048   \n2  0.787819           0.664589      0.540840       0.735884         0.481716   \n3  0.795236           0.660267      0.512500       0.697280         0.497587   \n4  0.791975           0.574534      0.455835       0.704284         0.473716   \n5  0.818073           0.633957      0.528237       0.721584         0.506147   \n6  0.805419           0.644014      0.522950       0.721594         0.486634   \n\n                 Name  \n0  Stacy Brownphilpot  \n1       Kevin Systrom  \n2  Arianna Huffington  \n3     Mark Zuckerberg  \n4           Daniel Ek  \n5         Ev Williams  \n6       Marissa Mayer  "
                    }, 
                    "output_type": "execute_result"
                }
            ], 
            "source": "all_personality_df"
        }, 
        {
            "execution_count": 22, 
            "cell_type": "code", 
            "metadata": {}, 
            "outputs": [
                {
                    "execution_count": 22, 
                    "metadata": {}, 
                    "data": {
                        "text/html": "<div>\n<style scoped>\n    .dataframe tbody tr th:only-of-type {\n        vertical-align: middle;\n    }\n\n    .dataframe tbody tr th {\n        vertical-align: top;\n    }\n\n    .dataframe thead th {\n        text-align: right;\n    }\n</style>\n<table border=\"1\" class=\"dataframe\">\n  <thead>\n    <tr style=\"text-align: right;\">\n      <th></th>\n      <th>Adventurousness</th>\n      <th>Artistic interests</th>\n      <th>Emotionality</th>\n      <th>Imagination</th>\n      <th>Intellect</th>\n      <th>Authority-challenging</th>\n      <th>Name</th>\n    </tr>\n  </thead>\n  <tbody>\n    <tr>\n      <th>0</th>\n      <td>0.549272</td>\n      <td>0.677823</td>\n      <td>0.663399</td>\n      <td>0.684591</td>\n      <td>0.711465</td>\n      <td>0.583350</td>\n      <td>Stacy Brownphilpot</td>\n    </tr>\n    <tr>\n      <th>1</th>\n      <td>0.519717</td>\n      <td>0.727920</td>\n      <td>0.669370</td>\n      <td>0.709328</td>\n      <td>0.712264</td>\n      <td>0.628538</td>\n      <td>Kevin Systrom</td>\n    </tr>\n    <tr>\n      <th>2</th>\n      <td>0.542648</td>\n      <td>0.712610</td>\n      <td>0.692105</td>\n      <td>0.747324</td>\n      <td>0.727052</td>\n      <td>0.601270</td>\n      <td>Arianna Huffington</td>\n    </tr>\n    <tr>\n      <th>3</th>\n      <td>0.541532</td>\n      <td>0.691450</td>\n      <td>0.643814</td>\n      <td>0.691068</td>\n      <td>0.722693</td>\n      <td>0.623718</td>\n      <td>Mark Zuckerberg</td>\n    </tr>\n    <tr>\n      <th>4</th>\n      <td>0.529975</td>\n      <td>0.716827</td>\n      <td>0.678005</td>\n      <td>0.730441</td>\n      <td>0.736404</td>\n      <td>0.647658</td>\n      <td>Daniel Ek</td>\n    </tr>\n    <tr>\n      <th>5</th>\n      <td>0.536035</td>\n      <td>0.733576</td>\n      <td>0.670893</td>\n      <td>0.746914</td>\n      <td>0.741595</td>\n      <td>0.667499</td>\n      <td>Ev Williams</td>\n    </tr>\n    <tr>\n      <th>6</th>\n      <td>0.547431</td>\n      <td>0.701889</td>\n      <td>0.661690</td>\n      <td>0.712637</td>\n      <td>0.723099</td>\n      <td>0.634171</td>\n      <td>Marissa Mayer</td>\n    </tr>\n  </tbody>\n</table>\n</div>", 
                        "text/plain": "   Adventurousness  Artistic interests  Emotionality  Imagination  Intellect  \\\n0         0.549272            0.677823      0.663399     0.684591   0.711465   \n1         0.519717            0.727920      0.669370     0.709328   0.712264   \n2         0.542648            0.712610      0.692105     0.747324   0.727052   \n3         0.541532            0.691450      0.643814     0.691068   0.722693   \n4         0.529975            0.716827      0.678005     0.730441   0.736404   \n5         0.536035            0.733576      0.670893     0.746914   0.741595   \n6         0.547431            0.701889      0.661690     0.712637   0.723099   \n\n   Authority-challenging                Name  \n0               0.583350  Stacy Brownphilpot  \n1               0.628538       Kevin Systrom  \n2               0.601270  Arianna Huffington  \n3               0.623718     Mark Zuckerberg  \n4               0.647658           Daniel Ek  \n5               0.667499         Ev Williams  \n6               0.634171       Marissa Mayer  "
                    }, 
                    "output_type": "execute_result"
                }
            ], 
            "source": "openness_df"
        }, 
        {
            "execution_count": 23, 
            "cell_type": "code", 
            "metadata": {}, 
            "outputs": [
                {
                    "execution_count": 23, 
                    "metadata": {}, 
                    "data": {
                        "text/html": "<div>\n<style scoped>\n    .dataframe tbody tr th:only-of-type {\n        vertical-align: middle;\n    }\n\n    .dataframe tbody tr th {\n        vertical-align: top;\n    }\n\n    .dataframe thead th {\n        text-align: right;\n    }\n</style>\n<table border=\"1\" class=\"dataframe\">\n  <thead>\n    <tr style=\"text-align: right;\">\n      <th></th>\n      <th>Achievement striving</th>\n      <th>Cautiousness</th>\n      <th>Dutifulness</th>\n      <th>Orderliness</th>\n      <th>Self-discipline</th>\n      <th>Self-efficacy</th>\n      <th>Name</th>\n    </tr>\n  </thead>\n  <tbody>\n    <tr>\n      <th>0</th>\n      <td>0.739307</td>\n      <td>0.608857</td>\n      <td>0.684512</td>\n      <td>0.454481</td>\n      <td>0.581252</td>\n      <td>0.762035</td>\n      <td>Stacy Brownphilpot</td>\n    </tr>\n    <tr>\n      <th>1</th>\n      <td>0.675763</td>\n      <td>0.615348</td>\n      <td>0.680129</td>\n      <td>0.440515</td>\n      <td>0.530816</td>\n      <td>0.697531</td>\n      <td>Kevin Systrom</td>\n    </tr>\n    <tr>\n      <th>2</th>\n      <td>0.750372</td>\n      <td>0.528937</td>\n      <td>0.675265</td>\n      <td>0.463056</td>\n      <td>0.580965</td>\n      <td>0.796325</td>\n      <td>Arianna Huffington</td>\n    </tr>\n    <tr>\n      <th>3</th>\n      <td>0.728193</td>\n      <td>0.613682</td>\n      <td>0.681686</td>\n      <td>0.449990</td>\n      <td>0.574116</td>\n      <td>0.761576</td>\n      <td>Mark Zuckerberg</td>\n    </tr>\n    <tr>\n      <th>4</th>\n      <td>0.686923</td>\n      <td>0.588714</td>\n      <td>0.682981</td>\n      <td>0.429911</td>\n      <td>0.521362</td>\n      <td>0.723693</td>\n      <td>Daniel Ek</td>\n    </tr>\n    <tr>\n      <th>5</th>\n      <td>0.699108</td>\n      <td>0.590725</td>\n      <td>0.683971</td>\n      <td>0.436252</td>\n      <td>0.530293</td>\n      <td>0.722200</td>\n      <td>Ev Williams</td>\n    </tr>\n    <tr>\n      <th>6</th>\n      <td>0.718306</td>\n      <td>0.616908</td>\n      <td>0.686392</td>\n      <td>0.452915</td>\n      <td>0.567074</td>\n      <td>0.750701</td>\n      <td>Marissa Mayer</td>\n    </tr>\n  </tbody>\n</table>\n</div>", 
                        "text/plain": "   Achievement striving  Cautiousness  Dutifulness  Orderliness  \\\n0              0.739307      0.608857     0.684512     0.454481   \n1              0.675763      0.615348     0.680129     0.440515   \n2              0.750372      0.528937     0.675265     0.463056   \n3              0.728193      0.613682     0.681686     0.449990   \n4              0.686923      0.588714     0.682981     0.429911   \n5              0.699108      0.590725     0.683971     0.436252   \n6              0.718306      0.616908     0.686392     0.452915   \n\n   Self-discipline  Self-efficacy                Name  \n0         0.581252       0.762035  Stacy Brownphilpot  \n1         0.530816       0.697531       Kevin Systrom  \n2         0.580965       0.796325  Arianna Huffington  \n3         0.574116       0.761576     Mark Zuckerberg  \n4         0.521362       0.723693           Daniel Ek  \n5         0.530293       0.722200         Ev Williams  \n6         0.567074       0.750701       Marissa Mayer  "
                    }, 
                    "output_type": "execute_result"
                }
            ], 
            "source": "conscientiousness_df"
        }, 
        {
            "execution_count": 24, 
            "cell_type": "code", 
            "metadata": {}, 
            "outputs": [
                {
                    "execution_count": 24, 
                    "metadata": {}, 
                    "data": {
                        "text/html": "<div>\n<style scoped>\n    .dataframe tbody tr th:only-of-type {\n        vertical-align: middle;\n    }\n\n    .dataframe tbody tr th {\n        vertical-align: top;\n    }\n\n    .dataframe thead th {\n        text-align: right;\n    }\n</style>\n<table border=\"1\" class=\"dataframe\">\n  <thead>\n    <tr style=\"text-align: right;\">\n      <th></th>\n      <th>Activity level</th>\n      <th>Assertiveness</th>\n      <th>Cheerfulness</th>\n      <th>Excitement-seeking</th>\n      <th>Outgoing</th>\n      <th>Gregariousness</th>\n      <th>Name</th>\n    </tr>\n  </thead>\n  <tbody>\n    <tr>\n      <th>0</th>\n      <td>0.607066</td>\n      <td>0.715528</td>\n      <td>0.605097</td>\n      <td>0.545532</td>\n      <td>0.554002</td>\n      <td>0.419505</td>\n      <td>Stacy Brownphilpot</td>\n    </tr>\n    <tr>\n      <th>1</th>\n      <td>0.534139</td>\n      <td>0.633161</td>\n      <td>0.583899</td>\n      <td>0.517096</td>\n      <td>0.494154</td>\n      <td>0.375204</td>\n      <td>Kevin Systrom</td>\n    </tr>\n    <tr>\n      <th>2</th>\n      <td>0.617853</td>\n      <td>0.730923</td>\n      <td>0.610429</td>\n      <td>0.595363</td>\n      <td>0.579744</td>\n      <td>0.422092</td>\n      <td>Arianna Huffington</td>\n    </tr>\n    <tr>\n      <th>3</th>\n      <td>0.616067</td>\n      <td>0.702512</td>\n      <td>0.587455</td>\n      <td>0.548125</td>\n      <td>0.557755</td>\n      <td>0.428105</td>\n      <td>Mark Zuckerberg</td>\n    </tr>\n    <tr>\n      <th>4</th>\n      <td>0.538444</td>\n      <td>0.631072</td>\n      <td>0.571256</td>\n      <td>0.544202</td>\n      <td>0.492812</td>\n      <td>0.362288</td>\n      <td>Daniel Ek</td>\n    </tr>\n    <tr>\n      <th>5</th>\n      <td>0.570366</td>\n      <td>0.646632</td>\n      <td>0.580420</td>\n      <td>0.535335</td>\n      <td>0.514934</td>\n      <td>0.370557</td>\n      <td>Ev Williams</td>\n    </tr>\n    <tr>\n      <th>6</th>\n      <td>0.582477</td>\n      <td>0.683506</td>\n      <td>0.584600</td>\n      <td>0.536119</td>\n      <td>0.522487</td>\n      <td>0.388183</td>\n      <td>Marissa Mayer</td>\n    </tr>\n  </tbody>\n</table>\n</div>", 
                        "text/plain": "   Activity level  Assertiveness  Cheerfulness  Excitement-seeking  Outgoing  \\\n0        0.607066       0.715528      0.605097            0.545532  0.554002   \n1        0.534139       0.633161      0.583899            0.517096  0.494154   \n2        0.617853       0.730923      0.610429            0.595363  0.579744   \n3        0.616067       0.702512      0.587455            0.548125  0.557755   \n4        0.538444       0.631072      0.571256            0.544202  0.492812   \n5        0.570366       0.646632      0.580420            0.535335  0.514934   \n6        0.582477       0.683506      0.584600            0.536119  0.522487   \n\n   Gregariousness                Name  \n0        0.419505  Stacy Brownphilpot  \n1        0.375204       Kevin Systrom  \n2        0.422092  Arianna Huffington  \n3        0.428105     Mark Zuckerberg  \n4        0.362288           Daniel Ek  \n5        0.370557         Ev Williams  \n6        0.388183       Marissa Mayer  "
                    }, 
                    "output_type": "execute_result"
                }
            ], 
            "source": "extraversion_df"
        }, 
        {
            "execution_count": 25, 
            "cell_type": "code", 
            "metadata": {}, 
            "outputs": [
                {
                    "execution_count": 25, 
                    "metadata": {}, 
                    "data": {
                        "text/html": "<div>\n<style scoped>\n    .dataframe tbody tr th:only-of-type {\n        vertical-align: middle;\n    }\n\n    .dataframe tbody tr th {\n        vertical-align: top;\n    }\n\n    .dataframe thead th {\n        text-align: right;\n    }\n</style>\n<table border=\"1\" class=\"dataframe\">\n  <thead>\n    <tr style=\"text-align: right;\">\n      <th></th>\n      <th>Altruism</th>\n      <th>Cooperation</th>\n      <th>Modesty</th>\n      <th>Uncompromising</th>\n      <th>Sympathy</th>\n      <th>Trust</th>\n      <th>Name</th>\n    </tr>\n  </thead>\n  <tbody>\n    <tr>\n      <th>0</th>\n      <td>0.756708</td>\n      <td>0.639379</td>\n      <td>0.487670</td>\n      <td>0.716013</td>\n      <td>0.751417</td>\n      <td>0.603901</td>\n      <td>Stacy Brownphilpot</td>\n    </tr>\n    <tr>\n      <th>1</th>\n      <td>0.732964</td>\n      <td>0.655640</td>\n      <td>0.485216</td>\n      <td>0.697863</td>\n      <td>0.711541</td>\n      <td>0.598488</td>\n      <td>Kevin Systrom</td>\n    </tr>\n    <tr>\n      <th>2</th>\n      <td>0.782432</td>\n      <td>0.616580</td>\n      <td>0.440810</td>\n      <td>0.685819</td>\n      <td>0.735926</td>\n      <td>0.620319</td>\n      <td>Arianna Huffington</td>\n    </tr>\n    <tr>\n      <th>3</th>\n      <td>0.743622</td>\n      <td>0.646228</td>\n      <td>0.450045</td>\n      <td>0.674064</td>\n      <td>0.719749</td>\n      <td>0.639157</td>\n      <td>Mark Zuckerberg</td>\n    </tr>\n    <tr>\n      <th>4</th>\n      <td>0.744824</td>\n      <td>0.665624</td>\n      <td>0.482940</td>\n      <td>0.705629</td>\n      <td>0.738680</td>\n      <td>0.613193</td>\n      <td>Daniel Ek</td>\n    </tr>\n    <tr>\n      <th>5</th>\n      <td>0.752197</td>\n      <td>0.669407</td>\n      <td>0.454430</td>\n      <td>0.683956</td>\n      <td>0.753108</td>\n      <td>0.631402</td>\n      <td>Ev Williams</td>\n    </tr>\n    <tr>\n      <th>6</th>\n      <td>0.741977</td>\n      <td>0.657229</td>\n      <td>0.446347</td>\n      <td>0.708853</td>\n      <td>0.737199</td>\n      <td>0.621807</td>\n      <td>Marissa Mayer</td>\n    </tr>\n  </tbody>\n</table>\n</div>", 
                        "text/plain": "   Altruism  Cooperation   Modesty  Uncompromising  Sympathy     Trust  \\\n0  0.756708     0.639379  0.487670        0.716013  0.751417  0.603901   \n1  0.732964     0.655640  0.485216        0.697863  0.711541  0.598488   \n2  0.782432     0.616580  0.440810        0.685819  0.735926  0.620319   \n3  0.743622     0.646228  0.450045        0.674064  0.719749  0.639157   \n4  0.744824     0.665624  0.482940        0.705629  0.738680  0.613193   \n5  0.752197     0.669407  0.454430        0.683956  0.753108  0.631402   \n6  0.741977     0.657229  0.446347        0.708853  0.737199  0.621807   \n\n                 Name  \n0  Stacy Brownphilpot  \n1       Kevin Systrom  \n2  Arianna Huffington  \n3     Mark Zuckerberg  \n4           Daniel Ek  \n5         Ev Williams  \n6       Marissa Mayer  "
                    }, 
                    "output_type": "execute_result"
                }
            ], 
            "source": "agreeableness_df"
        }, 
        {
            "execution_count": 26, 
            "cell_type": "code", 
            "metadata": {}, 
            "outputs": [
                {
                    "execution_count": 26, 
                    "metadata": {}, 
                    "data": {
                        "text/html": "<div>\n<style scoped>\n    .dataframe tbody tr th:only-of-type {\n        vertical-align: middle;\n    }\n\n    .dataframe tbody tr th {\n        vertical-align: top;\n    }\n\n    .dataframe thead th {\n        text-align: right;\n    }\n</style>\n<table border=\"1\" class=\"dataframe\">\n  <thead>\n    <tr style=\"text-align: right;\">\n      <th></th>\n      <th>Fiery</th>\n      <th>Prone to worry</th>\n      <th>Melancholy</th>\n      <th>Immoderation</th>\n      <th>Self-consciousness</th>\n      <th>Susceptible to stress</th>\n      <th>Name</th>\n    </tr>\n  </thead>\n  <tbody>\n    <tr>\n      <th>0</th>\n      <td>0.401697</td>\n      <td>0.494946</td>\n      <td>0.429860</td>\n      <td>0.500217</td>\n      <td>0.532594</td>\n      <td>0.408512</td>\n      <td>Stacy Brownphilpot</td>\n    </tr>\n    <tr>\n      <th>1</th>\n      <td>0.437068</td>\n      <td>0.532793</td>\n      <td>0.481805</td>\n      <td>0.518504</td>\n      <td>0.576679</td>\n      <td>0.476039</td>\n      <td>Kevin Systrom</td>\n    </tr>\n    <tr>\n      <th>2</th>\n      <td>0.456620</td>\n      <td>0.556489</td>\n      <td>0.444668</td>\n      <td>0.485235</td>\n      <td>0.532718</td>\n      <td>0.425963</td>\n      <td>Arianna Huffington</td>\n    </tr>\n    <tr>\n      <th>3</th>\n      <td>0.410326</td>\n      <td>0.532186</td>\n      <td>0.441051</td>\n      <td>0.498628</td>\n      <td>0.552278</td>\n      <td>0.429566</td>\n      <td>Mark Zuckerberg</td>\n    </tr>\n    <tr>\n      <th>4</th>\n      <td>0.422803</td>\n      <td>0.555647</td>\n      <td>0.493483</td>\n      <td>0.525057</td>\n      <td>0.608136</td>\n      <td>0.469477</td>\n      <td>Daniel Ek</td>\n    </tr>\n    <tr>\n      <th>5</th>\n      <td>0.444969</td>\n      <td>0.567656</td>\n      <td>0.477213</td>\n      <td>0.497748</td>\n      <td>0.595427</td>\n      <td>0.477262</td>\n      <td>Ev Williams</td>\n    </tr>\n    <tr>\n      <th>6</th>\n      <td>0.427564</td>\n      <td>0.509595</td>\n      <td>0.452251</td>\n      <td>0.512050</td>\n      <td>0.558704</td>\n      <td>0.415672</td>\n      <td>Marissa Mayer</td>\n    </tr>\n  </tbody>\n</table>\n</div>", 
                        "text/plain": "      Fiery  Prone to worry  Melancholy  Immoderation  Self-consciousness  \\\n0  0.401697        0.494946    0.429860      0.500217            0.532594   \n1  0.437068        0.532793    0.481805      0.518504            0.576679   \n2  0.456620        0.556489    0.444668      0.485235            0.532718   \n3  0.410326        0.532186    0.441051      0.498628            0.552278   \n4  0.422803        0.555647    0.493483      0.525057            0.608136   \n5  0.444969        0.567656    0.477213      0.497748            0.595427   \n6  0.427564        0.509595    0.452251      0.512050            0.558704   \n\n   Susceptible to stress                Name  \n0               0.408512  Stacy Brownphilpot  \n1               0.476039       Kevin Systrom  \n2               0.425963  Arianna Huffington  \n3               0.429566     Mark Zuckerberg  \n4               0.469477           Daniel Ek  \n5               0.477262         Ev Williams  \n6               0.415672       Marissa Mayer  "
                    }, 
                    "output_type": "execute_result"
                }
            ], 
            "source": "emotional_range_df"
        }, 
        {
            "source": "[Back to Top](#top)", 
            "cell_type": "markdown", 
            "metadata": {}
        }, 
        {
            "source": "<a id=\"ibm139\"></a>\n# 5. IBM 1-3-9", 
            "cell_type": "markdown", 
            "metadata": {}
        }, 
        {
            "source": "The IBM's 139 practices are taken as a basis to determine the qualified matches:", 
            "cell_type": "markdown", 
            "metadata": {}
        }, 
        {
            "source": "<img src=\"https://upload.wikimedia.org/wikipedia/commons/1/1d/IBM_values.png\" alt=\"IBM 139\" style=\"width: 700px; height: 300px;\"/>", 
            "cell_type": "markdown", 
            "metadata": {}
        }, 
        {
            "source": "- Dedication to every client's success requires skills: Curiosity, Practicality, Self-transcendence.\n- Innovation that matters for our company and for the world requires skills: Self-enhancement, Imagination, Intellect.\n- Trust and personal responsibility in all relationships requires skills: Trust, Dutifulness, Cooperation. ", 
            "cell_type": "markdown", 
            "metadata": {}
        }, 
        {
            "execution_count": 27, 
            "cell_type": "code", 
            "metadata": {}, 
            "outputs": [], 
            "source": "def company_match(candidates):\n    \"\"\" \n    Calculates the match based on company values. Returns Euclidian distance based similarity. \n    \n    candidates - dateframe of candidates \n    \n    \"\"\"\n    \n    company_skills=['Curiosity', 'Practicality', 'Self-transcendence','Self-enhancement','Imagination', 'Intellect','Trust', 'Dutifulness', 'Cooperation']\n\n    s = np.array([0.85]*len(company_skills))\n    dist = np.linalg.norm(np.array(candidates[company_skills]) - s)\n    similarity = 1/(1+dist)\n    \n    return similarity"
        }, 
        {
            "source": "Based on the interests of candidates managers will have an opportunity to recommend facilities and activities at IBM that candidates may enjoy:", 
            "cell_type": "markdown", 
            "metadata": {}
        }, 
        {
            "execution_count": 28, 
            "cell_type": "code", 
            "metadata": {}, 
            "outputs": [], 
            "source": "def recommend_activities(activity):\n    recommendation = \"Candidate would like to know about {}.\"\n    lst = []\n    if set(['gym_membership']).intersection(activity['Health & Activity Preferences']):\n        lst.append('on-site gym')\n    if set(['eat_out']).intersection(activity['Health & Activity Preferences']):\n        lst.append('cafeteria')\n    if set(['read_frequency']).intersection(activity['Reading Preferences']):\n        lst.append('on-site library')\n    if set(['start_business']).intersection(activity['Entrepreneurship Preferences']):\n        lst.append('Area 631')\n    if set(['volunteer']).intersection(activity['Volunteering Preferences']):\n        lst.append('ECF')\n    if len(activity['Movie Preferences']) >= 1:\n        lst.append('Amphitheatre movie days')\n        \n    return recommendation.format(\", \".join(lst))"
        }, 
        {
            "execution_count": 29, 
            "cell_type": "code", 
            "metadata": {}, 
            "outputs": [], 
            "source": "consumption_df['Recommend activities'] = consumption_df.apply(recommend_activities,axis = 1)"
        }, 
        {
            "execution_count": 30, 
            "cell_type": "code", 
            "metadata": {}, 
            "outputs": [
                {
                    "execution_count": 30, 
                    "metadata": {}, 
                    "data": {
                        "text/html": "<div>\n<style scoped>\n    .dataframe tbody tr th:only-of-type {\n        vertical-align: middle;\n    }\n\n    .dataframe tbody tr th {\n        vertical-align: top;\n    }\n\n    .dataframe thead th {\n        text-align: right;\n    }\n</style>\n<table border=\"1\" class=\"dataframe\">\n  <thead>\n    <tr style=\"text-align: right;\">\n      <th></th>\n      <th>Name</th>\n      <th>Recommend activities</th>\n    </tr>\n  </thead>\n  <tbody>\n    <tr>\n      <th>0</th>\n      <td>Stacy Brownphilpot</td>\n      <td>Candidate would like to know about on-site lib...</td>\n    </tr>\n    <tr>\n      <th>1</th>\n      <td>Kevin Systrom</td>\n      <td>Candidate would like to know about on-site lib...</td>\n    </tr>\n    <tr>\n      <th>2</th>\n      <td>Arianna Huffington</td>\n      <td>Candidate would like to know about on-site lib...</td>\n    </tr>\n    <tr>\n      <th>3</th>\n      <td>Mark Zuckerberg</td>\n      <td>Candidate would like to know about on-site lib...</td>\n    </tr>\n    <tr>\n      <th>4</th>\n      <td>Daniel Ek</td>\n      <td>Candidate would like to know about on-site lib...</td>\n    </tr>\n    <tr>\n      <th>5</th>\n      <td>Ev Williams</td>\n      <td>Candidate would like to know about on-site lib...</td>\n    </tr>\n    <tr>\n      <th>6</th>\n      <td>Marissa Mayer</td>\n      <td>Candidate would like to know about on-site lib...</td>\n    </tr>\n  </tbody>\n</table>\n</div>", 
                        "text/plain": "                 Name                               Recommend activities\n0  Stacy Brownphilpot  Candidate would like to know about on-site lib...\n1       Kevin Systrom  Candidate would like to know about on-site lib...\n2  Arianna Huffington  Candidate would like to know about on-site lib...\n3     Mark Zuckerberg  Candidate would like to know about on-site lib...\n4           Daniel Ek  Candidate would like to know about on-site lib...\n5         Ev Williams  Candidate would like to know about on-site lib...\n6       Marissa Mayer  Candidate would like to know about on-site lib..."
                    }, 
                    "output_type": "execute_result"
                }
            ], 
            "source": "consumption_df[['Name','Recommend activities']]"
        }, 
        {
            "source": "[Back to Top](#top)", 
            "cell_type": "markdown", 
            "metadata": {}
        }, 
        {
            "source": "<a id=\"team\"></a>\n# 6. Team Match\n\nThe skills indicated below were chosen based on the analysis of job descriptions.", 
            "cell_type": "markdown", 
            "metadata": {}
        }, 
        {
            "source": "***CHOOSE 5 ESSENTIAL SKILLS FOR YOUR TEAM:***\n* Strong work values - Dependability, honesty, self-confidence and a positive attitude.\n* Perseverance and motivation\n* Enthusiasm\n* Communication \n* Negotiation and persuasion\n* Teamwork\n* Leadership skills\n* Confidence\n* Self-management - Multitasking, adapting to changes, and flexibility.\n* Detail oriented\n* Ability to work under pressure\n* Willingness to learn \n* Thinking skills - Problem solving, analytical skills, and decision making.\n* Creativity", 
            "cell_type": "markdown", 
            "metadata": {}
        }, 
        {
            "execution_count": 31, 
            "cell_type": "code", 
            "metadata": {
                "scrolled": true
            }, 
            "outputs": [
                {
                    "execution_count": 31, 
                    "metadata": {}, 
                    "data": {
                        "text/html": "<div>\n<style scoped>\n    .dataframe tbody tr th:only-of-type {\n        vertical-align: middle;\n    }\n\n    .dataframe tbody tr th {\n        vertical-align: top;\n    }\n\n    .dataframe thead th {\n        text-align: right;\n    }\n</style>\n<table border=\"1\" class=\"dataframe\">\n  <thead>\n    <tr style=\"text-align: right;\">\n      <th></th>\n      <th>Essential Skills</th>\n      <th>Extraversion</th>\n      <th>Conscientiousness</th>\n      <th>Agreeableness</th>\n      <th>Openness</th>\n      <th>Emotional range</th>\n      <th>Achievement striving</th>\n      <th>Cautiousness</th>\n      <th>Dutifulness</th>\n      <th>Orderliness</th>\n      <th>...</th>\n      <th>Modesty</th>\n      <th>Activity level</th>\n      <th>Assertiveness</th>\n      <th>Cheerfulness</th>\n      <th>Gregariousness</th>\n      <th>Susceptible to stress</th>\n      <th>Self-consciousness</th>\n      <th>Intellect</th>\n      <th>Imagination</th>\n      <th>Authority-challenging</th>\n    </tr>\n  </thead>\n  <tbody>\n    <tr>\n      <th>0</th>\n      <td>Strong work values</td>\n      <td>NaN</td>\n      <td>High</td>\n      <td>High</td>\n      <td>NaN</td>\n      <td>Low</td>\n      <td>NaN</td>\n      <td>NaN</td>\n      <td>High</td>\n      <td>NaN</td>\n      <td>...</td>\n      <td>NaN</td>\n      <td>NaN</td>\n      <td>NaN</td>\n      <td>High</td>\n      <td>NaN</td>\n      <td>NaN</td>\n      <td>Low</td>\n      <td>NaN</td>\n      <td>NaN</td>\n      <td>NaN</td>\n    </tr>\n    <tr>\n      <th>1</th>\n      <td>Perseverance and motivation</td>\n      <td>High</td>\n      <td>High</td>\n      <td>High</td>\n      <td>NaN</td>\n      <td>Low</td>\n      <td>High</td>\n      <td>NaN</td>\n      <td>NaN</td>\n      <td>NaN</td>\n      <td>...</td>\n      <td>NaN</td>\n      <td>NaN</td>\n      <td>NaN</td>\n      <td>NaN</td>\n      <td>NaN</td>\n      <td>NaN</td>\n      <td>NaN</td>\n      <td>NaN</td>\n      <td>NaN</td>\n      <td>NaN</td>\n    </tr>\n    <tr>\n      <th>2</th>\n      <td>Enthusiasm</td>\n      <td>High</td>\n      <td>High</td>\n      <td>High</td>\n      <td>NaN</td>\n      <td>NaN</td>\n      <td>NaN</td>\n      <td>NaN</td>\n      <td>NaN</td>\n      <td>NaN</td>\n      <td>...</td>\n      <td>NaN</td>\n      <td>NaN</td>\n      <td>NaN</td>\n      <td>High</td>\n      <td>NaN</td>\n      <td>NaN</td>\n      <td>NaN</td>\n      <td>NaN</td>\n      <td>NaN</td>\n      <td>NaN</td>\n    </tr>\n    <tr>\n      <th>3</th>\n      <td>Communication</td>\n      <td>High</td>\n      <td>NaN</td>\n      <td>High</td>\n      <td>NaN</td>\n      <td>High</td>\n      <td>NaN</td>\n      <td>NaN</td>\n      <td>NaN</td>\n      <td>NaN</td>\n      <td>...</td>\n      <td>NaN</td>\n      <td>NaN</td>\n      <td>NaN</td>\n      <td>NaN</td>\n      <td>High</td>\n      <td>NaN</td>\n      <td>NaN</td>\n      <td>NaN</td>\n      <td>NaN</td>\n      <td>NaN</td>\n    </tr>\n    <tr>\n      <th>4</th>\n      <td>Negotiation and persuasion</td>\n      <td>High</td>\n      <td>High</td>\n      <td>High</td>\n      <td>NaN</td>\n      <td>NaN</td>\n      <td>High</td>\n      <td>NaN</td>\n      <td>NaN</td>\n      <td>NaN</td>\n      <td>...</td>\n      <td>NaN</td>\n      <td>NaN</td>\n      <td>NaN</td>\n      <td>NaN</td>\n      <td>NaN</td>\n      <td>NaN</td>\n      <td>NaN</td>\n      <td>NaN</td>\n      <td>NaN</td>\n      <td>NaN</td>\n    </tr>\n  </tbody>\n</table>\n<p>5 rows \u00d7 23 columns</p>\n</div>", 
                        "text/plain": "              Essential Skills Extraversion Conscientiousness Agreeableness  \\\n0           Strong work values          NaN              High          High   \n1  Perseverance and motivation         High              High          High   \n2                   Enthusiasm         High              High          High   \n3                Communication         High               NaN          High   \n4   Negotiation and persuasion         High              High          High   \n\n  Openness Emotional range Achievement striving Cautiousness Dutifulness  \\\n0      NaN             Low                  NaN          NaN        High   \n1      NaN             Low                 High          NaN         NaN   \n2      NaN             NaN                  NaN          NaN         NaN   \n3      NaN            High                  NaN          NaN         NaN   \n4      NaN             NaN                 High          NaN         NaN   \n\n  Orderliness          ...          Modesty Activity level Assertiveness  \\\n0         NaN          ...              NaN            NaN           NaN   \n1         NaN          ...              NaN            NaN           NaN   \n2         NaN          ...              NaN            NaN           NaN   \n3         NaN          ...              NaN            NaN           NaN   \n4         NaN          ...              NaN            NaN           NaN   \n\n  Cheerfulness Gregariousness Susceptible to stress Self-consciousness  \\\n0         High            NaN                   NaN                Low   \n1          NaN            NaN                   NaN                NaN   \n2         High            NaN                   NaN                NaN   \n3          NaN           High                   NaN                NaN   \n4          NaN            NaN                   NaN                NaN   \n\n  Intellect Imagination Authority-challenging  \n0       NaN         NaN                   NaN  \n1       NaN         NaN                   NaN  \n2       NaN         NaN                   NaN  \n3       NaN         NaN                   NaN  \n4       NaN         NaN                   NaN  \n\n[5 rows x 23 columns]"
                    }, 
                    "output_type": "execute_result"
                }
            ], 
            "source": "body = client_0f8d8b468baa4efa9c29025ebc262fe5.get_object(Bucket='insideout-donotdelete-pr-arlsgjghrogjm7',Key='Describe_Team.csv')['Body']\n# add missing __iter__ method, so pandas accepts body as file-like object\nif not hasattr(body, \"__iter__\"): body.__iter__ = types.MethodType( __iter__, body )\n\ndescribe_team = pd.read_csv(body)\ndescribe_team.head()"
        }, 
        {
            "execution_count": 32, 
            "cell_type": "code", 
            "metadata": {}, 
            "outputs": [], 
            "source": "def team_match(skills):\n    description = describe_team.copy()\n    description.replace({'High':1,'Low':-1},inplace=True)\n    \n    dfs = [all_personality_df, openness_df, conscientiousness_df,extraversion_df,agreeableness_df,emotional_range_df]\n    df = reduce(lambda left,right: pd.merge(left,right,on='Name'), dfs)\n    \n    l = ['Name']\n    \n    for skill in skills:\n        skill_df =  description.loc[description['Essential Skills'] == skill]\n        skill_df = skill_df[[col for col in skill_df.columns if skill_df[col].notnull().values]]\n        lows = skill_df[skill_df == -1].count().sum()\n        traits = list(skill_df.iloc[:,1:].columns)\n        \n        df[skill+' scores'] = ((df[traits]*skill_df[traits].values[0]).apply(np.mean,axis=1) + lows/len(traits))\n        l.append(skill + ' scores')\n        \n    match_result = df.copy()[l]\n    match_result['Team match'] = match_result[l[1:]].apply(np.mean,axis=1)\n                                                                    \n    return match_result"
        }, 
        {
            "execution_count": 33, 
            "cell_type": "code", 
            "metadata": {}, 
            "outputs": [], 
            "source": "# Example\nskill_list = ['Teamwork','Ability to work under pressure','Thinking skills','Enthusiasm','Communication']"
        }, 
        {
            "execution_count": 34, 
            "cell_type": "code", 
            "metadata": {}, 
            "outputs": [], 
            "source": "def match(skills):\n    c_dfs = [needs_df, values_df, openness_df, conscientiousness_df, extraversion_df, agreeableness_df, emotional_range_df]\n    company_match_final = reduce(lambda left,right: pd.merge(left,right,on='Name'), c_dfs)\n    \n    company_match_final['Company match'] = company_match_final.apply(company_match,axis=1)\n    company_match_final = company_match_final[['Name','Company match']]\n    \n    team_match_final = team_match(skills)\n    \n    match_final = pd.merge(company_match_final,team_match_final,on='Name')\n    match_final['Overall match'] = (match_final['Company match'] + match_final['Team match'])/2\n    match_final.sort_values(by = 'Overall match',ascending=False,inplace=True)\n    \n    cols = match_final.columns.tolist()\n    cols_ordered = cols[0:1] + cols[-1:] + cols[1:2] + cols[-2:-1] + cols[2:-2]\n    \n    return match_final[cols_ordered]"
        }, 
        {
            "execution_count": 35, 
            "cell_type": "code", 
            "metadata": {}, 
            "outputs": [], 
            "source": "results = match(skills = skill_list)\nresults = pd.merge(results,consumption_df[['Name','Recommend activities']],how='inner',on='Name')"
        }, 
        {
            "execution_count": 36, 
            "cell_type": "code", 
            "metadata": {}, 
            "outputs": [
                {
                    "execution_count": 36, 
                    "metadata": {}, 
                    "data": {
                        "text/html": "<div>\n<style scoped>\n    .dataframe tbody tr th:only-of-type {\n        vertical-align: middle;\n    }\n\n    .dataframe tbody tr th {\n        vertical-align: top;\n    }\n\n    .dataframe thead th {\n        text-align: right;\n    }\n</style>\n<table border=\"1\" class=\"dataframe\">\n  <thead>\n    <tr style=\"text-align: right;\">\n      <th></th>\n      <th>Name</th>\n      <th>Overall match</th>\n      <th>Company match</th>\n      <th>Team match</th>\n      <th>Teamwork scores</th>\n      <th>Ability to work under pressure scores</th>\n      <th>Thinking skills scores</th>\n      <th>Enthusiasm scores</th>\n      <th>Communication scores</th>\n      <th>Recommend activities</th>\n    </tr>\n  </thead>\n  <tbody>\n    <tr>\n      <th>0</th>\n      <td>Arianna Huffington</td>\n      <td>0.647058</td>\n      <td>0.681862</td>\n      <td>0.612253</td>\n      <td>0.672351</td>\n      <td>0.557762</td>\n      <td>0.648086</td>\n      <td>0.637936</td>\n      <td>0.545133</td>\n      <td>Candidate would like to know about on-site lib...</td>\n    </tr>\n    <tr>\n      <th>1</th>\n      <td>Ev Williams</td>\n      <td>0.646184</td>\n      <td>0.695495</td>\n      <td>0.596873</td>\n      <td>0.674983</td>\n      <td>0.515628</td>\n      <td>0.646075</td>\n      <td>0.616050</td>\n      <td>0.531631</td>\n      <td>Candidate would like to know about on-site lib...</td>\n    </tr>\n    <tr>\n      <th>2</th>\n      <td>Marissa Mayer</td>\n      <td>0.646089</td>\n      <td>0.685034</td>\n      <td>0.607144</td>\n      <td>0.674279</td>\n      <td>0.554923</td>\n      <td>0.658390</td>\n      <td>0.618290</td>\n      <td>0.529840</td>\n      <td>Candidate would like to know about on-site lib...</td>\n    </tr>\n    <tr>\n      <th>3</th>\n      <td>Mark Zuckerberg</td>\n      <td>0.643008</td>\n      <td>0.682641</td>\n      <td>0.603374</td>\n      <td>0.667925</td>\n      <td>0.548987</td>\n      <td>0.651715</td>\n      <td>0.614375</td>\n      <td>0.533868</td>\n      <td>Candidate would like to know about on-site lib...</td>\n    </tr>\n    <tr>\n      <th>4</th>\n      <td>Stacy Brownphilpot</td>\n      <td>0.639307</td>\n      <td>0.668310</td>\n      <td>0.610305</td>\n      <td>0.675824</td>\n      <td>0.558395</td>\n      <td>0.653619</td>\n      <td>0.624017</td>\n      <td>0.539670</td>\n      <td>Candidate would like to know about on-site lib...</td>\n    </tr>\n    <tr>\n      <th>5</th>\n      <td>Kevin Systrom</td>\n      <td>0.634904</td>\n      <td>0.675013</td>\n      <td>0.594795</td>\n      <td>0.668097</td>\n      <td>0.519243</td>\n      <td>0.643367</td>\n      <td>0.613966</td>\n      <td>0.529301</td>\n      <td>Candidate would like to know about on-site lib...</td>\n    </tr>\n    <tr>\n      <th>6</th>\n      <td>Daniel Ek</td>\n      <td>0.633424</td>\n      <td>0.689685</td>\n      <td>0.577163</td>\n      <td>0.648147</td>\n      <td>0.526056</td>\n      <td>0.636103</td>\n      <td>0.576477</td>\n      <td>0.499031</td>\n      <td>Candidate would like to know about on-site lib...</td>\n    </tr>\n  </tbody>\n</table>\n</div>", 
                        "text/plain": "                 Name  Overall match  Company match  Team match  \\\n0  Arianna Huffington       0.647058       0.681862    0.612253   \n1         Ev Williams       0.646184       0.695495    0.596873   \n2       Marissa Mayer       0.646089       0.685034    0.607144   \n3     Mark Zuckerberg       0.643008       0.682641    0.603374   \n4  Stacy Brownphilpot       0.639307       0.668310    0.610305   \n5       Kevin Systrom       0.634904       0.675013    0.594795   \n6           Daniel Ek       0.633424       0.689685    0.577163   \n\n   Teamwork scores  Ability to work under pressure scores  \\\n0         0.672351                               0.557762   \n1         0.674983                               0.515628   \n2         0.674279                               0.554923   \n3         0.667925                               0.548987   \n4         0.675824                               0.558395   \n5         0.668097                               0.519243   \n6         0.648147                               0.526056   \n\n   Thinking skills scores  Enthusiasm scores  Communication scores  \\\n0                0.648086           0.637936              0.545133   \n1                0.646075           0.616050              0.531631   \n2                0.658390           0.618290              0.529840   \n3                0.651715           0.614375              0.533868   \n4                0.653619           0.624017              0.539670   \n5                0.643367           0.613966              0.529301   \n6                0.636103           0.576477              0.499031   \n\n                                Recommend activities  \n0  Candidate would like to know about on-site lib...  \n1  Candidate would like to know about on-site lib...  \n2  Candidate would like to know about on-site lib...  \n3  Candidate would like to know about on-site lib...  \n4  Candidate would like to know about on-site lib...  \n5  Candidate would like to know about on-site lib...  \n6  Candidate would like to know about on-site lib...  "
                    }, 
                    "output_type": "execute_result"
                }
            ], 
            "source": "results"
        }, 
        {
            "execution_count": 37, 
            "cell_type": "code", 
            "metadata": {}, 
            "outputs": [
                {
                    "execution_count": 37, 
                    "metadata": {}, 
                    "data": {
                        "text/plain": "{'asset_id': '0a6ede86-3755-4516-b575-a78494fa8e1d',\n 'bucket_name': 'insideout-donotdelete-pr-arlsgjghrogjm7',\n 'file_name': 'cognos_one.csv',\n 'message': 'File cognos_one.csv has been written successfully to the associated OS'}"
                    }, 
                    "output_type": "execute_result"
                }
            ], 
            "source": "project.save_data('cognos_one.csv',results.to_csv(index=False),overwrite=True)"
        }, 
        {
            "execution_count": 38, 
            "cell_type": "code", 
            "metadata": {}, 
            "outputs": [
                {
                    "execution_count": 38, 
                    "metadata": {}, 
                    "data": {
                        "text/plain": "{'asset_id': '7930b209-08d2-49aa-96f1-a9d7a01254e2',\n 'bucket_name': 'insideout-donotdelete-pr-arlsgjghrogjm7',\n 'file_name': 'match_results.json',\n 'message': 'File match_results.json has been written successfully to the associated OS'}"
                    }, 
                    "output_type": "execute_result"
                }
            ], 
            "source": "project.save_data('match_results.json',results.to_json(orient='records'),overwrite=True)"
        }, 
        {
            "source": "[Back to Top](#top)", 
            "cell_type": "markdown", 
            "metadata": {}
        }, 
        {
            "source": "<a id=\"compare\"></a>\n# 7. Compare Candidates", 
            "cell_type": "markdown", 
            "metadata": {}
        }, 
        {
            "execution_count": 39, 
            "cell_type": "code", 
            "metadata": {}, 
            "outputs": [
                {
                    "execution_count": 39, 
                    "metadata": {}, 
                    "data": {
                        "text/html": "<div>\n<style scoped>\n    .dataframe tbody tr th:only-of-type {\n        vertical-align: middle;\n    }\n\n    .dataframe tbody tr th {\n        vertical-align: top;\n    }\n\n    .dataframe thead th {\n        text-align: right;\n    }\n</style>\n<table border=\"1\" class=\"dataframe\">\n  <thead>\n    <tr style=\"text-align: right;\">\n      <th></th>\n      <th>Need</th>\n      <th>Description</th>\n    </tr>\n  </thead>\n  <tbody>\n    <tr>\n      <th>0</th>\n      <td>Challenge</td>\n      <td>have an urge to achieve, to succeed, and to ta...</td>\n    </tr>\n    <tr>\n      <th>1</th>\n      <td>Closeness</td>\n      <td>relish being connected to family and setting u...</td>\n    </tr>\n    <tr>\n      <th>2</th>\n      <td>Curiosity</td>\n      <td>have a desire to discover, find out, and grow</td>\n    </tr>\n    <tr>\n      <th>3</th>\n      <td>Excitement</td>\n      <td>want to get out there and live life, have upbe...</td>\n    </tr>\n    <tr>\n      <th>4</th>\n      <td>Harmony</td>\n      <td>appreciate other people, their viewpoints and ...</td>\n    </tr>\n  </tbody>\n</table>\n</div>", 
                        "text/plain": "         Need                                        Description\n0   Challenge  have an urge to achieve, to succeed, and to ta...\n1   Closeness  relish being connected to family and setting u...\n2   Curiosity      have a desire to discover, find out, and grow\n3  Excitement  want to get out there and live life, have upbe...\n4     Harmony  appreciate other people, their viewpoints and ..."
                    }, 
                    "output_type": "execute_result"
                }
            ], 
            "source": "body = client_0f8d8b468baa4efa9c29025ebc262fe5.get_object(Bucket='insideout-donotdelete-pr-arlsgjghrogjm7',Key='Describe_Needs.csv')['Body']\n# add missing __iter__ method, so pandas accepts body as file-like object\nif not hasattr(body, \"__iter__\"): body.__iter__ = types.MethodType( __iter__, body )\n\ndescribe_needs = pd.read_csv(body)\ndescribe_needs.head()"
        }, 
        {
            "execution_count": 40, 
            "cell_type": "code", 
            "metadata": {}, 
            "outputs": [
                {
                    "execution_count": 40, 
                    "metadata": {}, 
                    "data": {
                        "text/html": "<div>\n<style scoped>\n    .dataframe tbody tr th:only-of-type {\n        vertical-align: middle;\n    }\n\n    .dataframe tbody tr th {\n        vertical-align: top;\n    }\n\n    .dataframe thead th {\n        text-align: right;\n    }\n</style>\n<table border=\"1\" class=\"dataframe\">\n  <thead>\n    <tr style=\"text-align: right;\">\n      <th></th>\n      <th>Value</th>\n      <th>Description</th>\n    </tr>\n  </thead>\n  <tbody>\n    <tr>\n      <th>0</th>\n      <td>Conservation</td>\n      <td>emphasize self-restriction, order, and resista...</td>\n    </tr>\n    <tr>\n      <th>1</th>\n      <td>Openness to change</td>\n      <td>emphasize independent action, thought, and fee...</td>\n    </tr>\n    <tr>\n      <th>2</th>\n      <td>Hedonism</td>\n      <td>seek pleasure and sensuous gratification</td>\n    </tr>\n    <tr>\n      <th>3</th>\n      <td>Self-enhancement</td>\n      <td>seek personal success</td>\n    </tr>\n    <tr>\n      <th>4</th>\n      <td>Self-transcendence</td>\n      <td>show concern for the welfare and interests of ...</td>\n    </tr>\n  </tbody>\n</table>\n</div>", 
                        "text/plain": "                Value                                        Description\n0        Conservation  emphasize self-restriction, order, and resista...\n1  Openness to change  emphasize independent action, thought, and fee...\n2            Hedonism          seek pleasure and sensuous gratification \n3    Self-enhancement                              seek personal success\n4  Self-transcendence  show concern for the welfare and interests of ..."
                    }, 
                    "output_type": "execute_result"
                }
            ], 
            "source": "body = client_0f8d8b468baa4efa9c29025ebc262fe5.get_object(Bucket='insideout-donotdelete-pr-arlsgjghrogjm7',Key='Describe_Values.csv')['Body']\n# add missing __iter__ method, so pandas accepts body as file-like object\nif not hasattr(body, \"__iter__\"): body.__iter__ = types.MethodType( __iter__, body )\ndescribe_values = pd.read_csv(body)\ndescribe_values.head()"
        }, 
        {
            "execution_count": 41, 
            "cell_type": "code", 
            "metadata": {}, 
            "outputs": [], 
            "source": "def compare_needs_and_values(candidate_one,candidate_two,trait):\n    \"\"\"\n    Compares either needs or values and returns a dictionary: overall similarity score, similarities, differences, and highlights.\n    \n    candidate_one - name of first candidate \n    candidate_two - name of second candidate\n    \n    trait - 'Need' or 'Value'\n    \n    \"\"\"\n    \n    if trait == 'Need':\n        df = needs_df.copy()\n        description = describe_needs.copy()\n    elif trait == 'Value':\n        df = values_df.copy()\n        description = describe_values.copy()\n        \n    skills_one = df.loc[df['Name'] == candidate_one,df.columns != 'Name']\n    skills_two = df.loc[df['Name'] == candidate_two,df.columns != 'Name']\n    \n    dist = np.linalg.norm(np.array(skills_one) - np.array(skills_two))\n    similarity = 1/(1+dist)\n    \n    scores = skills_one.T.squeeze()-skills_two.T.squeeze()\n    scores_text = scores.apply(lambda n: 'more' if n > 0 else 'less')\n    skills_text = skills_one.T.squeeze().apply(lambda n: 'likely' if n >= 0.5 else 'less likely')\n    \n    similarities = list(np.abs(scores).sort_values().head(2).index)\n    s_text = description.loc[description[trait].isin(similarities),'Description'].reset_index(drop=True)\n    similarities_text = \"Both are {} to {}. Also they are {} to {}.\".format(skills_text[similarities][0], s_text[0], \n                                                                                        skills_text[similarities][1], s_text[1])\n    \n    differences = list(np.abs(scores).sort_values(ascending=False).head(2).index)\n    d_text = description.loc[description[trait].isin(differences),'Description'].reset_index(drop=True)\n    differences_text = \"{} is {} likely to {}. Also he/she is {} likely than {} to {}.\".format(candidate_one, \n                                                                                               scores_text[differences][0], \n                                                                                               d_text[0], \n                                                                                               scores_text[differences][1], \n                                                                                               candidate_two,\n                                                                                               d_text[1])\n    \n    candidate_one_similarity_scores = skills_one.T.squeeze()[similarities].to_dict()\n    candidate_two_similarity_scores = skills_two.T.squeeze()[similarities].to_dict()\n    candidate_one_difference_scores = skills_one.T.squeeze()[differences].to_dict()\n    candidate_two_difference_scores = skills_two.T.squeeze()[differences].to_dict()\n    \n    new_similarities = {key: [value] + [candidate_two_similarity_scores[key]] for key, value in candidate_one_similarity_scores.items()}\n    new_differences = {key: [value] + [candidate_two_difference_scores[key]] for key, value in candidate_one_difference_scores.items()}\n    compare_data = {'Name':[candidate_one,candidate_two],'Text {}'.format(trait): [similarities_text,differences_text],**new_similarities,**new_differences}\n    \n    \n    compare_n_v = pd.DataFrame(compare_data)\n    \n    \n    return {'similarity_score_{}'.format(trait): similarity, \n            'candidate_one_similarities_{}'.format(trait):candidate_one_similarity_scores,\n            'candidate_two_similarities_{}'.format(trait):candidate_two_similarity_scores,\n            'candidate_one_differences_{}'.format(trait):candidate_one_difference_scores,\n            'candidate_two_differences_{}'.format(trait):candidate_two_difference_scores,\n            'similarities_text_{}'.format(trait): similarities_text,\n            'differences_text_{}'.format(trait): differences_text}, compare_n_v"
        }, 
        {
            "execution_count": 138, 
            "cell_type": "code", 
            "metadata": {}, 
            "outputs": [], 
            "source": "v_js, compare_df_values = compare_needs_and_values('Marissa Mayer','Arianna Huffington','Value')\nn_js, compare_df_needs = compare_needs_and_values('Marissa Mayer','Arianna Huffington','Need')"
        }, 
        {
            "execution_count": 139, 
            "cell_type": "code", 
            "metadata": {}, 
            "outputs": [
                {
                    "execution_count": 139, 
                    "metadata": {}, 
                    "data": {
                        "text/html": "<div>\n<style scoped>\n    .dataframe tbody tr th:only-of-type {\n        vertical-align: middle;\n    }\n\n    .dataframe tbody tr th {\n        vertical-align: top;\n    }\n\n    .dataframe thead th {\n        text-align: right;\n    }\n</style>\n<table border=\"1\" class=\"dataframe\">\n  <thead>\n    <tr style=\"text-align: right;\">\n      <th></th>\n      <th>Conservation</th>\n      <th>Hedonism</th>\n      <th>Name</th>\n      <th>Openness to change</th>\n      <th>Self-enhancement</th>\n      <th>Text Value</th>\n    </tr>\n  </thead>\n  <tbody>\n    <tr>\n      <th>0</th>\n      <td>0.583031</td>\n      <td>0.632841</td>\n      <td>Marissa Mayer</td>\n      <td>0.78855</td>\n      <td>0.657561</td>\n      <td>Both are likely to emphasize independent actio...</td>\n    </tr>\n    <tr>\n      <th>1</th>\n      <td>0.636515</td>\n      <td>0.651688</td>\n      <td>Arianna Huffington</td>\n      <td>0.78405</td>\n      <td>0.661706</td>\n      <td>Marissa Mayer is less likely to emphasize self...</td>\n    </tr>\n  </tbody>\n</table>\n</div>", 
                        "text/plain": "   Conservation  Hedonism                Name  Openness to change  \\\n0      0.583031  0.632841       Marissa Mayer             0.78855   \n1      0.636515  0.651688  Arianna Huffington             0.78405   \n\n   Self-enhancement                                         Text Value  \n0          0.657561  Both are likely to emphasize independent actio...  \n1          0.661706  Marissa Mayer is less likely to emphasize self...  "
                    }, 
                    "output_type": "execute_result"
                }
            ], 
            "source": "compare_df_values"
        }, 
        {
            "execution_count": 140, 
            "cell_type": "code", 
            "metadata": {}, 
            "outputs": [
                {
                    "execution_count": 140, 
                    "metadata": {}, 
                    "data": {
                        "text/html": "<div>\n<style scoped>\n    .dataframe tbody tr th:only-of-type {\n        vertical-align: middle;\n    }\n\n    .dataframe tbody tr th {\n        vertical-align: top;\n    }\n\n    .dataframe thead th {\n        text-align: right;\n    }\n</style>\n<table border=\"1\" class=\"dataframe\">\n  <thead>\n    <tr style=\"text-align: right;\">\n      <th></th>\n      <th>Excitement</th>\n      <th>Love</th>\n      <th>Name</th>\n      <th>Practicality</th>\n      <th>Structure</th>\n      <th>Text Need</th>\n    </tr>\n  </thead>\n  <tbody>\n    <tr>\n      <th>0</th>\n      <td>0.54328</td>\n      <td>0.679617</td>\n      <td>Marissa Mayer</td>\n      <td>0.700173</td>\n      <td>0.708965</td>\n      <td>Both are likely to have a desire to get the jo...</td>\n    </tr>\n    <tr>\n      <th>1</th>\n      <td>0.61849</td>\n      <td>0.745111</td>\n      <td>Arianna Huffington</td>\n      <td>0.713351</td>\n      <td>0.714364</td>\n      <td>Marissa Mayer is less likely to want to get ou...</td>\n    </tr>\n  </tbody>\n</table>\n</div>", 
                        "text/plain": "   Excitement      Love                Name  Practicality  Structure  \\\n0     0.54328  0.679617       Marissa Mayer      0.700173   0.708965   \n1     0.61849  0.745111  Arianna Huffington      0.713351   0.714364   \n\n                                           Text Need  \n0  Both are likely to have a desire to get the jo...  \n1  Marissa Mayer is less likely to want to get ou...  "
                    }, 
                    "output_type": "execute_result"
                }
            ], 
            "source": "compare_df_needs"
        }, 
        {
            "execution_count": 45, 
            "cell_type": "code", 
            "metadata": {}, 
            "outputs": [
                {
                    "execution_count": 45, 
                    "metadata": {}, 
                    "data": {
                        "text/html": "<div>\n<style scoped>\n    .dataframe tbody tr th:only-of-type {\n        vertical-align: middle;\n    }\n\n    .dataframe tbody tr th {\n        vertical-align: top;\n    }\n\n    .dataframe thead th {\n        text-align: right;\n    }\n</style>\n<table border=\"1\" class=\"dataframe\">\n  <thead>\n    <tr style=\"text-align: right;\">\n      <th></th>\n      <th>Personalities</th>\n      <th>Agreeableness High</th>\n      <th>Conscientiousness High</th>\n      <th>Extraversion High</th>\n      <th>Emotional range High</th>\n      <th>Openness High</th>\n      <th>Agreeableness Low</th>\n      <th>Conscientiousness Low</th>\n      <th>Extraversion Low</th>\n      <th>Emotional range Low</th>\n      <th>Openness Low</th>\n    </tr>\n  </thead>\n  <tbody>\n    <tr>\n      <th>0</th>\n      <td>Agreeableness High</td>\n      <td></td>\n      <td>cooperative</td>\n      <td>communicative, enthusiastic</td>\n      <td></td>\n      <td>tactful, idealistic</td>\n      <td></td>\n      <td></td>\n      <td></td>\n      <td>flexible, patient</td>\n      <td></td>\n    </tr>\n    <tr>\n      <th>1</th>\n      <td>Conscientiousness High</td>\n      <td>cooperative</td>\n      <td></td>\n      <td>purposeful, competitive</td>\n      <td>particular</td>\n      <td>perfectionistic, analytical</td>\n      <td></td>\n      <td></td>\n      <td>punctual</td>\n      <td>self-disciplined, logical, decisive, rational</td>\n      <td></td>\n    </tr>\n    <tr>\n      <th>2</th>\n      <td>Extraversion High</td>\n      <td></td>\n      <td>purposeful, competitive</td>\n      <td></td>\n      <td>wordy</td>\n      <td>expressive, witty</td>\n      <td>bossy</td>\n      <td></td>\n      <td></td>\n      <td>confident</td>\n      <td></td>\n    </tr>\n    <tr>\n      <th>3</th>\n      <td>Emotional range High</td>\n      <td></td>\n      <td>particular</td>\n      <td>wordy</td>\n      <td></td>\n      <td>excitable</td>\n      <td></td>\n      <td></td>\n      <td></td>\n      <td></td>\n      <td></td>\n    </tr>\n    <tr>\n      <th>4</th>\n      <td>Openness High</td>\n      <td>tactful, idealistic</td>\n      <td>perfectionistic, analytical</td>\n      <td>expressive, witty</td>\n      <td>excitable</td>\n      <td></td>\n      <td></td>\n      <td></td>\n      <td>self-examining</td>\n      <td>creative, intellectual, insightful</td>\n      <td></td>\n    </tr>\n  </tbody>\n</table>\n</div>", 
                        "text/plain": "            Personalities   Agreeableness High       Conscientiousness High  \\\n0      Agreeableness High                                       cooperative   \n1  Conscientiousness High          cooperative                                \n2       Extraversion High                           purposeful, competitive   \n3    Emotional range High                                        particular   \n4           Openness High  tactful, idealistic  perfectionistic, analytical   \n\n             Extraversion High Emotional range High  \\\n0  communicative, enthusiastic                        \n1      purposeful, competitive           particular   \n2                                             wordy   \n3                        wordy                        \n4            expressive, witty            excitable   \n\n                 Openness High Agreeableness Low Conscientiousness Low  \\\n0          tactful, idealistic                                           \n1  perfectionistic, analytical                                           \n2            expressive, witty             bossy                         \n3                    excitable                                           \n4                                                                        \n\n  Extraversion Low                            Emotional range Low Openness Low  \n0                                               flexible, patient               \n1         punctual  self-disciplined, logical, decisive, rational               \n2                                                       confident               \n3                                                                               \n4   self-examining             creative, intellectual, insightful               "
                    }, 
                    "output_type": "execute_result"
                }
            ], 
            "source": "body = client_0f8d8b468baa4efa9c29025ebc262fe5.get_object(Bucket='insideout-donotdelete-pr-arlsgjghrogjm7',Key='Describe_Personalities_HL.csv')['Body']\n# add missing __iter__ method, so pandas accepts body as file-like object\nif not hasattr(body, \"__iter__\"): body.__iter__ = types.MethodType( __iter__, body )\n\ndescribe_personalities_hl = pd.read_csv(body)\ndescribe_personalities_hl.fillna(value='',inplace=True)\ndescribe_personalities_hl.head()"
        }, 
        {
            "execution_count": 57, 
            "cell_type": "code", 
            "metadata": {}, 
            "outputs": [], 
            "source": "def compare_personality(candidate_one,candidate_two):\n    \"\"\"\n    Compares personalities and returns a dictionary: overall similarity score, similarities, differences, and highlights.\n    \n    candidate_one - name of first candidate \n    candidate_two - name of second candidate\n    \n    \"\"\"\n    trait='Personality'\n    \n    df = all_personality_df.copy()\n    description_hl = describe_personalities_hl.copy()\n    \n    skills_one = df.loc[df['Name'] == candidate_one,df.columns != 'Name']\n    skills_two = df.loc[df['Name'] == candidate_two,df.columns != 'Name']\n    \n    dist = np.linalg.norm(np.array(skills_one) - np.array(skills_two))\n    similarity = 1/(1+dist)\n    \n    scores_one = skills_one.T.squeeze()\n    scores_one_hl = scores_one.apply(lambda n: 'High' if n >= 0.5 else 'Low')\n    cols_one = list(scores_one_hl.index + ' ' + scores_one_hl.values)\n     \n    scores_two = skills_two.T.squeeze()\n    scores_two_hl = scores_two.apply(lambda n: 'High' if n >= 0.5 else 'Low')\n    cols_two = list(scores_two_hl.index + ' ' + scores_two_hl.values)\n\n    scores = scores_one_hl == scores_two_hl\n    differences = list(scores[scores == False].index)\n    \n    d = {'similarity score': similarity,'differences': differences,'similarities':[]}\n\n    if differences != []:\n        differences_one = list(scores_one_hl[scores_one_hl.index.isin(differences)].index + ' ' + scores_one_hl[scores_one_hl.index.isin(differences)].values)\n        differences_two = list(scores_two_hl[scores_two_hl.index.isin(differences)].index + ' ' + scores_two_hl[scores_two_hl.index.isin(differences)].values)\n        candidate_one_traits = description_hl.copy().loc[description_hl['Personalities'].isin(differences_one),cols_one].values[0]\n        candidate_two_traits = description_hl.copy().loc[description_hl['Personalities'].isin(differences_two),cols_two].values[0]\n        candidate_text = \"{} is {}.\"\n        d['candidate_one_text'] = candidate_text.format(candidate_one,\", \".join(candidate_one_traits[candidate_one_traits !=\"\"]))\n        d['candidate_two_text'] = candidate_text.format(candidate_two,\", \".join(candidate_two_traits[candidate_two_traits !=\"\"]))\n        \n        \n    else:\n        scores_similar = scores_one - scores_two\n        scores_text = scores_similar.apply(lambda n: 'more' if n > 0 else 'less')\n        similarities = list(np.abs(scores_similar).sort_values(ascending=False).head(2).index)\n        similar_traits = list(scores_one_hl[similarities].index + ' ' +scores_one_hl[similarities].values)\n        \n        cols = list(set(cols_one).difference(set(similar_traits)))\n        \n        similar_text_one = description_hl.copy().loc[description_hl['Personalities'].isin([similar_traits[0]]),cols].values[0]\n        similar_text_one = similar_text_one[similar_text_one != \"\"]\n        similar_text_two = description_hl.copy().loc[description_hl['Personalities'].isin([similar_traits[1]]),cols].values[0]\n        similar_text_two = similar_text_two[similar_text_two != \"\"]\n        \n        candidate_text = \"Both candidates have similar personalities, however {} is {} {} than {}. Also, he/she is {} {}.\".format(candidate_one,\n                                                                                                                                  scores_text[similarities[0]],\n                                                                                                                                  similar_text_one[0], \n                                                                                                                                  candidate_two,\n                                                                                                                                  scores_text[similarities[1]],\n                                                                                                                                  similar_text_two[0])\n        d['similarity_text'] = candidate_text\n        d['similarities'] = similarities\n        \n    d['candidate_one_scores'] = scores_one.to_dict()\n    d['candidate_two_scores'] = scores_two.to_dict()\n    \n    if 'similarity_text' in d.keys():\n        text = {'Text': [d['similarity_text'],d['similarity_text']]}\n    elif 'candidate_one_text' in d.keys():\n        text = {'Text':[d['candidate_one_text'],d['candidate_two_text']]}\n    \n    vals = {key: [value] + [scores_two.to_dict()[key]] for key, value in scores_one.to_dict().items()}\n    compare_data = {'Name':[candidate_one,candidate_two], **vals, 'Similarity score':[similarity,similarity],**text}\n    compare_p = pd.DataFrame(compare_data)\n    \n    return d, compare_p"
        }, 
        {
            "execution_count": 141, 
            "cell_type": "code", 
            "metadata": {}, 
            "outputs": [], 
            "source": "p_js, compare_df_personality = compare_personality('Marissa Mayer','Arianna Huffington')"
        }, 
        {
            "execution_count": 142, 
            "cell_type": "code", 
            "metadata": {}, 
            "outputs": [
                {
                    "execution_count": 142, 
                    "metadata": {}, 
                    "data": {
                        "text/html": "<div>\n<style scoped>\n    .dataframe tbody tr th:only-of-type {\n        vertical-align: middle;\n    }\n\n    .dataframe tbody tr th {\n        vertical-align: top;\n    }\n\n    .dataframe thead th {\n        text-align: right;\n    }\n</style>\n<table border=\"1\" class=\"dataframe\">\n  <thead>\n    <tr style=\"text-align: right;\">\n      <th></th>\n      <th>Agreeableness</th>\n      <th>Conscientiousness</th>\n      <th>Emotional range</th>\n      <th>Extraversion</th>\n      <th>Name</th>\n      <th>Openness</th>\n      <th>Similarity score</th>\n      <th>Text</th>\n    </tr>\n  </thead>\n  <tbody>\n    <tr>\n      <th>0</th>\n      <td>0.721594</td>\n      <td>0.644014</td>\n      <td>0.486634</td>\n      <td>0.52295</td>\n      <td>Marissa Mayer</td>\n      <td>0.805419</td>\n      <td>0.965439</td>\n      <td>Both candidates have similar personalities, ho...</td>\n    </tr>\n    <tr>\n      <th>1</th>\n      <td>0.735884</td>\n      <td>0.664589</td>\n      <td>0.481716</td>\n      <td>0.54084</td>\n      <td>Arianna Huffington</td>\n      <td>0.787819</td>\n      <td>0.965439</td>\n      <td>Both candidates have similar personalities, ho...</td>\n    </tr>\n  </tbody>\n</table>\n</div>", 
                        "text/plain": "   Agreeableness  Conscientiousness  Emotional range  Extraversion  \\\n0       0.721594           0.644014         0.486634       0.52295   \n1       0.735884           0.664589         0.481716       0.54084   \n\n                 Name  Openness  Similarity score  \\\n0       Marissa Mayer  0.805419          0.965439   \n1  Arianna Huffington  0.787819          0.965439   \n\n                                                Text  \n0  Both candidates have similar personalities, ho...  \n1  Both candidates have similar personalities, ho...  "
                    }, 
                    "output_type": "execute_result"
                }
            ], 
            "source": "compare_df_personality"
        }, 
        {
            "execution_count": 143, 
            "cell_type": "code", 
            "metadata": {}, 
            "outputs": [], 
            "source": "dfs = [compare_df_personality,compare_df_needs,compare_df_values]\ncompare_df = reduce(lambda left,right: pd.merge(left,right,on='Name'), dfs)"
        }, 
        {
            "execution_count": 144, 
            "cell_type": "code", 
            "metadata": {}, 
            "outputs": [
                {
                    "execution_count": 144, 
                    "metadata": {}, 
                    "data": {
                        "text/html": "<div>\n<style scoped>\n    .dataframe tbody tr th:only-of-type {\n        vertical-align: middle;\n    }\n\n    .dataframe tbody tr th {\n        vertical-align: top;\n    }\n\n    .dataframe thead th {\n        text-align: right;\n    }\n</style>\n<table border=\"1\" class=\"dataframe\">\n  <thead>\n    <tr style=\"text-align: right;\">\n      <th></th>\n      <th>Agreeableness</th>\n      <th>Conscientiousness</th>\n      <th>Emotional range</th>\n      <th>Extraversion</th>\n      <th>Name</th>\n      <th>Openness</th>\n      <th>Similarity score</th>\n      <th>Text</th>\n      <th>Excitement</th>\n      <th>Love</th>\n      <th>Practicality</th>\n      <th>Structure</th>\n      <th>Text Need</th>\n      <th>Conservation</th>\n      <th>Hedonism</th>\n      <th>Openness to change</th>\n      <th>Self-enhancement</th>\n      <th>Text Value</th>\n    </tr>\n  </thead>\n  <tbody>\n    <tr>\n      <th>0</th>\n      <td>0.721594</td>\n      <td>0.644014</td>\n      <td>0.486634</td>\n      <td>0.52295</td>\n      <td>Marissa Mayer</td>\n      <td>0.805419</td>\n      <td>0.965439</td>\n      <td>Both candidates have similar personalities, ho...</td>\n      <td>0.54328</td>\n      <td>0.679617</td>\n      <td>0.700173</td>\n      <td>0.708965</td>\n      <td>Both are likely to have a desire to get the jo...</td>\n      <td>0.583031</td>\n      <td>0.632841</td>\n      <td>0.78855</td>\n      <td>0.657561</td>\n      <td>Both are likely to emphasize independent actio...</td>\n    </tr>\n    <tr>\n      <th>1</th>\n      <td>0.735884</td>\n      <td>0.664589</td>\n      <td>0.481716</td>\n      <td>0.54084</td>\n      <td>Arianna Huffington</td>\n      <td>0.787819</td>\n      <td>0.965439</td>\n      <td>Both candidates have similar personalities, ho...</td>\n      <td>0.61849</td>\n      <td>0.745111</td>\n      <td>0.713351</td>\n      <td>0.714364</td>\n      <td>Marissa Mayer is less likely to want to get ou...</td>\n      <td>0.636515</td>\n      <td>0.651688</td>\n      <td>0.78405</td>\n      <td>0.661706</td>\n      <td>Marissa Mayer is less likely to emphasize self...</td>\n    </tr>\n  </tbody>\n</table>\n</div>", 
                        "text/plain": "   Agreeableness  Conscientiousness  Emotional range  Extraversion  \\\n0       0.721594           0.644014         0.486634       0.52295   \n1       0.735884           0.664589         0.481716       0.54084   \n\n                 Name  Openness  Similarity score  \\\n0       Marissa Mayer  0.805419          0.965439   \n1  Arianna Huffington  0.787819          0.965439   \n\n                                                Text  Excitement      Love  \\\n0  Both candidates have similar personalities, ho...     0.54328  0.679617   \n1  Both candidates have similar personalities, ho...     0.61849  0.745111   \n\n   Practicality  Structure                                          Text Need  \\\n0      0.700173   0.708965  Both are likely to have a desire to get the jo...   \n1      0.713351   0.714364  Marissa Mayer is less likely to want to get ou...   \n\n   Conservation  Hedonism  Openness to change  Self-enhancement  \\\n0      0.583031  0.632841             0.78855          0.657561   \n1      0.636515  0.651688             0.78405          0.661706   \n\n                                          Text Value  \n0  Both are likely to emphasize independent actio...  \n1  Marissa Mayer is less likely to emphasize self...  "
                    }, 
                    "output_type": "execute_result"
                }
            ], 
            "source": "compare_df"
        }, 
        {
            "source": "##### Saving datasets to COS", 
            "cell_type": "markdown", 
            "metadata": {}
        }, 
        {
            "execution_count": 145, 
            "cell_type": "code", 
            "metadata": {}, 
            "outputs": [
                {
                    "execution_count": 145, 
                    "metadata": {}, 
                    "data": {
                        "text/plain": "{'asset_id': '4c318cb6-b8f4-49ea-bf04-a6a71fd4345e',\n 'bucket_name': 'insideout-donotdelete-pr-arlsgjghrogjm7',\n 'file_name': 'compare_cognos_three.csv',\n 'message': 'File compare_cognos_three.csv has been written successfully to the associated OS'}"
                    }, 
                    "output_type": "execute_result"
                }
            ], 
            "source": "project.save_data('compare_cognos_three.csv',compare_df.to_csv(index=False),overwrite=True)"
        }, 
        {
            "execution_count": 74, 
            "cell_type": "code", 
            "metadata": {}, 
            "outputs": [
                {
                    "execution_count": 74, 
                    "metadata": {}, 
                    "data": {
                        "text/plain": "{'asset_id': '26714437-9516-480b-8d30-86d40fa28a85',\n 'bucket_name': 'insideout-donotdelete-pr-arlsgjghrogjm7',\n 'file_name': 'compare_personalities.json',\n 'message': 'File compare_personalities.json has been written successfully to the associated OS'}"
                    }, 
                    "output_type": "execute_result"
                }
            ], 
            "source": "project.save_data('compare_personalities.json',json.dumps(p_js),overwrite=True)"
        }, 
        {
            "execution_count": 75, 
            "cell_type": "code", 
            "metadata": {}, 
            "outputs": [
                {
                    "execution_count": 75, 
                    "metadata": {}, 
                    "data": {
                        "text/plain": "{'asset_id': '1d637f17-b4f9-426f-b589-c7d81f8e5d0b',\n 'bucket_name': 'insideout-donotdelete-pr-arlsgjghrogjm7',\n 'file_name': 'compare_needs.json',\n 'message': 'File compare_needs.json has been written successfully to the associated OS'}"
                    }, 
                    "output_type": "execute_result"
                }
            ], 
            "source": "project.save_data('compare_needs.json',json.dumps(n_js),overwrite=True)"
        }, 
        {
            "execution_count": 76, 
            "cell_type": "code", 
            "metadata": {}, 
            "outputs": [
                {
                    "execution_count": 76, 
                    "metadata": {}, 
                    "data": {
                        "text/plain": "{'asset_id': '05f20679-6536-42de-b36e-e96218dc9e3e',\n 'bucket_name': 'insideout-donotdelete-pr-arlsgjghrogjm7',\n 'file_name': 'compare_values.json',\n 'message': 'File compare_values.json has been written successfully to the associated OS'}"
                    }, 
                    "output_type": "execute_result"
                }
            ], 
            "source": "project.save_data('compare_values.json',json.dumps(v_js),overwrite=True)"
        }, 
        {
            "source": "[Back to Top](#top)", 
            "cell_type": "markdown", 
            "metadata": {}
        }, 
        {
            "source": "# END ", 
            "cell_type": "markdown", 
            "metadata": {}
        }
    ], 
    "metadata": {
        "kernelspec": {
            "display_name": "Python 3.5 with Spark 2.1", 
            "name": "python3-spark21", 
            "language": "python"
        }, 
        "language_info": {
            "mimetype": "text/x-python", 
            "nbconvert_exporter": "python", 
            "version": "3.5.4", 
            "name": "python", 
            "file_extension": ".py", 
            "pygments_lexer": "ipython3", 
            "codemirror_mode": {
                "version": 3, 
                "name": "ipython"
            }
        }
    }, 
    "nbformat": 4
}