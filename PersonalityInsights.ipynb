{
    "nbformat_minor": 1, 
    "cells": [
        {
            "source": "# 1. Importing Libraries", 
            "cell_type": "markdown", 
            "metadata": {}
        }, 
        {
            "execution_count": 1, 
            "cell_type": "code", 
            "metadata": {}, 
            "outputs": [], 
            "source": "# The code was removed by Watson Studio for sharing."
        }, 
        {
            "execution_count": 2, 
            "cell_type": "code", 
            "metadata": {}, 
            "outputs": [], 
            "source": "#!pip install --upgrade \"watson-developer-cloud>=2.5.1\"\nfrom watson_developer_cloud import PersonalityInsightsV3\n\nimport json\nfrom os.path import join\n\nimport pandas as pd\nfrom pandas.io.json import json_normalize\n\nimport numpy as np"
        }, 
        {
            "source": "# 2.  Data Files: PDF to TXT", 
            "cell_type": "markdown", 
            "metadata": {}
        }, 
        {
            "execution_count": 3, 
            "cell_type": "code", 
            "metadata": {}, 
            "outputs": [], 
            "source": "#!pip install pdfminer.six\n#import pdfminer\n#pdf2txt.py ycombinator-sam-altman.pdf > ycombinator-sam-altman.txt"
        }, 
        {
            "execution_count": 4, 
            "cell_type": "code", 
            "metadata": {}, 
            "outputs": [
                {
                    "output_type": "stream", 
                    "name": "stdout", 
                    "text": "['instagram-kevin-systrom.txt', 'facebook-mark-zuckerberg.txt', 'spotify-daniel-ek.txt', 'twitter-ev-williams.txt']\n"
                }
            ], 
            "source": "#!git clone https://github.com/ssuleyma/InsideOut.git\npath ='./InsideOut/Transcripts/'\nfiles = os.listdir(path=path)\nprint(files)"
        }, 
        {
            "source": "# 3. Analyze with Watson Personality Insights", 
            "cell_type": "markdown", 
            "metadata": {}
        }, 
        {
            "source": "<img src=\"https://www.easydna.ca/wp-content/uploads/2018/03/the_big_five1.png\" alt=\"Big Five\" style=\"width: 400px; height: 400px;\"/>", 
            "cell_type": "markdown", 
            "metadata": {}
        }, 
        {
            "execution_count": 5, 
            "cell_type": "code", 
            "metadata": {}, 
            "outputs": [], 
            "source": "pi_version = \"2017-10-13\"\npi_api_key = \"\"\npi_url = \"https://gateway.watsonplatform.net/personality-insights/api\"\n\npersonality_insights = PersonalityInsightsV3(\n    version = pi_version,\n    iam_apikey = pi_api_key,\n    url = pi_url\n)\n\npersonality_insights.set_detailed_response(True)\npersonality_insights.set_default_headers({'x-watson-learning-opt-out': \"true\"})"
        }, 
        {
            "execution_count": null, 
            "cell_type": "code", 
            "metadata": {}, 
            "outputs": [], 
            "source": "candidates_df = pd.DataFrame()\nfor i,f in enumerate(files):\n    with open(join(path, f)) as profile_txt:\n        profile = personality_insights.profile(profile_txt.read(),\n                                               content_type='text/plain',\n                                               accept='application/json',\n                                               consumption_preferences=True,\n                                               raw_scores=True).get_result()\n        \n        candidates_df = candidates_df.append(json_normalize(profile),ignore_index=True,sort=False)\n        candidates_df.loc[i,'file'] = f"
        }, 
        {
            "execution_count": null, 
            "cell_type": "code", 
            "metadata": {}, 
            "outputs": [], 
            "source": "candidates_df.drop(columns=['processed_language','warnings'],inplace=True)"
        }, 
        {
            "execution_count": 7, 
            "cell_type": "code", 
            "metadata": {}, 
            "outputs": [
                {
                    "execution_count": 7, 
                    "metadata": {}, 
                    "data": {
                        "text/html": "<div>\n<style scoped>\n    .dataframe tbody tr th:only-of-type {\n        vertical-align: middle;\n    }\n\n    .dataframe tbody tr th {\n        vertical-align: top;\n    }\n\n    .dataframe thead th {\n        text-align: right;\n    }\n</style>\n<table border=\"1\" class=\"dataframe\">\n  <thead>\n    <tr style=\"text-align: right;\">\n      <th></th>\n    </tr>\n  </thead>\n  <tbody>\n  </tbody>\n</table>\n</div>", 
                        "text/plain": "Empty DataFrame\nColumns: []\nIndex: []"
                    }, 
                    "output_type": "execute_result"
                }
            ], 
            "source": "candidates_df.head()"
        }, 
        {
            "execution_count": 10, 
            "cell_type": "code", 
            "metadata": {}, 
            "outputs": [
                {
                    "execution_count": 10, 
                    "metadata": {}, 
                    "data": {
                        "text/plain": "{'asset_id': '36131aed-e240-4df3-a8e8-5d9963aafb07',\n 'bucket_name': 'insideout-donotdelete-pr-arlsgjghrogjm7',\n 'file_name': 'candidates_df.csv',\n 'message': 'File candidates_df.csv has been written successfully to the associated OS'}"
                    }, 
                    "output_type": "execute_result"
                }
            ], 
            "source": "# project.save_data('candidates_df.csv',candidates_df.to_csv(index=False),overwrite=True)"
        }, 
        {
            "source": "# 4. Data Cleaning", 
            "cell_type": "markdown", 
            "metadata": {}
        }, 
        {
            "execution_count": 8, 
            "cell_type": "code", 
            "metadata": {}, 
            "outputs": [
                {
                    "execution_count": 8, 
                    "metadata": {}, 
                    "data": {
                        "text/html": "<div>\n<style scoped>\n    .dataframe tbody tr th:only-of-type {\n        vertical-align: middle;\n    }\n\n    .dataframe tbody tr th {\n        vertical-align: top;\n    }\n\n    .dataframe thead th {\n        text-align: right;\n    }\n</style>\n<table border=\"1\" class=\"dataframe\">\n  <thead>\n    <tr style=\"text-align: right;\">\n      <th></th>\n      <th>consumption_preferences</th>\n      <th>needs</th>\n      <th>personality</th>\n      <th>values</th>\n      <th>word_count</th>\n      <th>file</th>\n    </tr>\n  </thead>\n  <tbody>\n    <tr>\n      <th>0</th>\n      <td>[{'consumption_preference_category_id': 'consu...</td>\n      <td>[{'category': 'needs', 'name': 'Challenge', 's...</td>\n      <td>[{'category': 'personality', 'children': [{'ca...</td>\n      <td>[{'category': 'values', 'name': 'Conservation'...</td>\n      <td>2732</td>\n      <td>instagram-kevin-systrom.txt</td>\n    </tr>\n    <tr>\n      <th>1</th>\n      <td>[{'consumption_preference_category_id': 'consu...</td>\n      <td>[{'category': 'needs', 'name': 'Challenge', 's...</td>\n      <td>[{'category': 'personality', 'children': [{'ca...</td>\n      <td>[{'category': 'values', 'name': 'Conservation'...</td>\n      <td>2517</td>\n      <td>facebook-mark-zuckerberg.txt</td>\n    </tr>\n    <tr>\n      <th>2</th>\n      <td>[{'consumption_preference_category_id': 'consu...</td>\n      <td>[{'category': 'needs', 'name': 'Challenge', 's...</td>\n      <td>[{'category': 'personality', 'children': [{'ca...</td>\n      <td>[{'category': 'values', 'name': 'Conservation'...</td>\n      <td>1854</td>\n      <td>spotify-daniel-ek.txt</td>\n    </tr>\n    <tr>\n      <th>3</th>\n      <td>[{'consumption_preference_category_id': 'consu...</td>\n      <td>[{'category': 'needs', 'name': 'Challenge', 's...</td>\n      <td>[{'category': 'personality', 'children': [{'ca...</td>\n      <td>[{'category': 'values', 'name': 'Conservation'...</td>\n      <td>2852</td>\n      <td>twitter-ev-williams.txt</td>\n    </tr>\n  </tbody>\n</table>\n</div>", 
                        "text/plain": "                             consumption_preferences  \\\n0  [{'consumption_preference_category_id': 'consu...   \n1  [{'consumption_preference_category_id': 'consu...   \n2  [{'consumption_preference_category_id': 'consu...   \n3  [{'consumption_preference_category_id': 'consu...   \n\n                                               needs  \\\n0  [{'category': 'needs', 'name': 'Challenge', 's...   \n1  [{'category': 'needs', 'name': 'Challenge', 's...   \n2  [{'category': 'needs', 'name': 'Challenge', 's...   \n3  [{'category': 'needs', 'name': 'Challenge', 's...   \n\n                                         personality  \\\n0  [{'category': 'personality', 'children': [{'ca...   \n1  [{'category': 'personality', 'children': [{'ca...   \n2  [{'category': 'personality', 'children': [{'ca...   \n3  [{'category': 'personality', 'children': [{'ca...   \n\n                                              values  word_count  \\\n0  [{'category': 'values', 'name': 'Conservation'...        2732   \n1  [{'category': 'values', 'name': 'Conservation'...        2517   \n2  [{'category': 'values', 'name': 'Conservation'...        1854   \n3  [{'category': 'values', 'name': 'Conservation'...        2852   \n\n                           file  \n0   instagram-kevin-systrom.txt  \n1  facebook-mark-zuckerberg.txt  \n2         spotify-daniel-ek.txt  \n3       twitter-ev-williams.txt  "
                    }, 
                    "output_type": "execute_result"
                }
            ], 
            "source": "# The code was removed by Watson Studio for sharing."
        }, 
        {
            "execution_count": 9, 
            "cell_type": "code", 
            "metadata": {}, 
            "outputs": [], 
            "source": "def insights_to_df(insight, candidates):\n    \"\"\"\n    Returns a dataframe of needs, values or personality raw scores.\n    \n    insight - \"needs\", \"values\", \"personality\"\n    candidates - dataframe of candidates\n    \"\"\"\n    n_v_df = pd.DataFrame()\n    for r in candidates.index:\n        d = pd.DataFrame(eval(candidates.copy().loc[r,insight]))[['name','raw_score']]\n        d = d.set_index('name').T.reset_index(drop=True)\n        d['file'] = candidates.loc[r,'file']\n        n_v_df = n_v_df.append(d,ignore_index=True)\n    n_v_df.columns.name = \"\"\n    return n_v_df\n\ndef consumption(candidates):\n    \"\"\"\n    Returns a dataframe of positive consumption preferences of candidates.\n    \n    candidates - dataframe of candidates\n    \"\"\"\n    c_df = pd.DataFrame()\n    for r in candidates.index:\n        d = pd.DataFrame(eval(candidates.copy().loc[r,'consumption_preferences'])).drop(columns=['consumption_preference_category_id'])\n        d['consumption_preferences'] = d['consumption_preferences'].apply(lambda l: [p['consumption_preference_id'][24:] for p in l if p['score'] >= 0.5])\n        d = d[~d['name'].isin(['Music Preferences','Purchasing Preferences'])]\n        d = d.set_index('name').T.reset_index(drop=True)\n        d['file'] = candidates.loc[r,'file']\n        c_df = c_df.append(d,ignore_index=True)\n    c_df.columns.name = \"\"\n    return c_df\n\ndef personality_details(candidates):\n    \"\"\"\n    Returns dataframes of raw scores for each of the Big 5 traits.\n    \n    candidates - dataframe of candidates\n    \"\"\"\n    open_df = pd.DataFrame()\n    cons_df = pd.DataFrame()\n    extra_df = pd.DataFrame()\n    agree_df = pd.DataFrame()\n    emotion_df = pd.DataFrame()\n    \n    for r in candidates.index:\n        for t in range(0,5):\n            t_name = eval(candidates_df.loc[r,'personality'])[t]['name']\n            d = pd.DataFrame(eval(candidates_df.loc[r,'personality'])[t]['children'])[['name','raw_score']]\n            d = d.set_index('name').T.reset_index(drop=True)\n            d['file'] = candidates.loc[r,'file']\n            \n            if t_name == 'Openness':\n                open_df = open_df.append(d,ignore_index=True)\n            elif t_name == 'Conscientiousness':\n                cons_df = cons_df.append(d,ignore_index=True)\n            elif t_name == 'Extraversion':\n                extra_df = extra_df.append(d,ignore_index=True)\n            elif t_name == 'Agreeableness':\n                agree_df = agree_df.append(d,ignore_index=True)\n            elif t_name == 'Emotional range':\n                emotion_df = emotion_df.append(d,ignore_index=True)\n                \n    open_df.columns.name = \"\"\n    cons_df.columns.name = \"\"\n    extra_df.columns.name = \"\"\n    agree_df.columns.name = \"\"\n    emotion_df.columns.name = \"\"\n    \n    return  open_df,cons_df,extra_df,agree_df,emotion_df"
        }, 
        {
            "execution_count": 10, 
            "cell_type": "code", 
            "metadata": {}, 
            "outputs": [], 
            "source": "needs_df = insights_to_df('needs',candidates_df)\nvalues_df = insights_to_df('values',candidates_df)\nconsumption_df = consumption(candidates_df)\nall_personality_df = insights_to_df('personality',candidates_df)\nopenness_df, conscientiousness_df, extraversion_df, agreeableness_df, emotional_range_df = personality_details(candidates_df)"
        }, 
        {
            "source": "# 5. Exploratory Data Analysis", 
            "cell_type": "markdown", 
            "metadata": {}
        }, 
        {
            "execution_count": 11, 
            "cell_type": "code", 
            "metadata": {}, 
            "outputs": [
                {
                    "execution_count": 11, 
                    "metadata": {}, 
                    "data": {
                        "text/html": "<div>\n<style scoped>\n    .dataframe tbody tr th:only-of-type {\n        vertical-align: middle;\n    }\n\n    .dataframe tbody tr th {\n        vertical-align: top;\n    }\n\n    .dataframe thead th {\n        text-align: right;\n    }\n</style>\n<table border=\"1\" class=\"dataframe\">\n  <thead>\n    <tr style=\"text-align: right;\">\n      <th></th>\n      <th>Challenge</th>\n      <th>Closeness</th>\n      <th>Curiosity</th>\n      <th>Excitement</th>\n      <th>Harmony</th>\n      <th>Ideal</th>\n      <th>Liberty</th>\n      <th>Love</th>\n      <th>Practicality</th>\n      <th>Self-expression</th>\n      <th>Stability</th>\n      <th>Structure</th>\n      <th>file</th>\n    </tr>\n  </thead>\n  <tbody>\n    <tr>\n      <th>0</th>\n      <td>0.687388</td>\n      <td>0.737678</td>\n      <td>0.827021</td>\n      <td>0.553379</td>\n      <td>0.758527</td>\n      <td>0.643312</td>\n      <td>0.694281</td>\n      <td>0.691013</td>\n      <td>0.697178</td>\n      <td>0.646145</td>\n      <td>0.707389</td>\n      <td>0.694753</td>\n      <td>instagram-kevin-systrom.txt</td>\n    </tr>\n    <tr>\n      <th>1</th>\n      <td>0.729555</td>\n      <td>0.705474</td>\n      <td>0.834953</td>\n      <td>0.575228</td>\n      <td>0.740460</td>\n      <td>0.643764</td>\n      <td>0.698083</td>\n      <td>0.672824</td>\n      <td>0.700580</td>\n      <td>0.613063</td>\n      <td>0.695070</td>\n      <td>0.714984</td>\n      <td>facebook-mark-zuckerberg.txt</td>\n    </tr>\n    <tr>\n      <th>2</th>\n      <td>0.705916</td>\n      <td>0.734802</td>\n      <td>0.833490</td>\n      <td>0.580611</td>\n      <td>0.765428</td>\n      <td>0.656928</td>\n      <td>0.703968</td>\n      <td>0.696026</td>\n      <td>0.705324</td>\n      <td>0.623352</td>\n      <td>0.701928</td>\n      <td>0.709038</td>\n      <td>spotify-daniel-ek.txt</td>\n    </tr>\n    <tr>\n      <th>3</th>\n      <td>0.709902</td>\n      <td>0.723402</td>\n      <td>0.843319</td>\n      <td>0.544000</td>\n      <td>0.748655</td>\n      <td>0.668819</td>\n      <td>0.695866</td>\n      <td>0.696311</td>\n      <td>0.699126</td>\n      <td>0.627310</td>\n      <td>0.690413</td>\n      <td>0.701614</td>\n      <td>twitter-ev-williams.txt</td>\n    </tr>\n  </tbody>\n</table>\n</div>", 
                        "text/plain": "   Challenge  Closeness  Curiosity  Excitement   Harmony     Ideal   Liberty  \\\n0   0.687388   0.737678   0.827021    0.553379  0.758527  0.643312  0.694281   \n1   0.729555   0.705474   0.834953    0.575228  0.740460  0.643764  0.698083   \n2   0.705916   0.734802   0.833490    0.580611  0.765428  0.656928  0.703968   \n3   0.709902   0.723402   0.843319    0.544000  0.748655  0.668819  0.695866   \n\n       Love  Practicality  Self-expression  Stability  Structure  \\\n0  0.691013      0.697178         0.646145   0.707389   0.694753   \n1  0.672824      0.700580         0.613063   0.695070   0.714984   \n2  0.696026      0.705324         0.623352   0.701928   0.709038   \n3  0.696311      0.699126         0.627310   0.690413   0.701614   \n\n                           file  \n0   instagram-kevin-systrom.txt  \n1  facebook-mark-zuckerberg.txt  \n2         spotify-daniel-ek.txt  \n3       twitter-ev-williams.txt  "
                    }, 
                    "output_type": "execute_result"
                }
            ], 
            "source": "needs_df"
        }, 
        {
            "execution_count": 12, 
            "cell_type": "code", 
            "metadata": {}, 
            "outputs": [
                {
                    "execution_count": 12, 
                    "metadata": {}, 
                    "data": {
                        "text/html": "<div>\n<style scoped>\n    .dataframe tbody tr th:only-of-type {\n        vertical-align: middle;\n    }\n\n    .dataframe tbody tr th {\n        vertical-align: top;\n    }\n\n    .dataframe thead th {\n        text-align: right;\n    }\n</style>\n<table border=\"1\" class=\"dataframe\">\n  <thead>\n    <tr style=\"text-align: right;\">\n      <th></th>\n      <th>Conservation</th>\n      <th>Openness to change</th>\n      <th>Hedonism</th>\n      <th>Self-enhancement</th>\n      <th>Self-transcendence</th>\n      <th>file</th>\n    </tr>\n  </thead>\n  <tbody>\n    <tr>\n      <th>0</th>\n      <td>0.575899</td>\n      <td>0.766610</td>\n      <td>0.633714</td>\n      <td>0.652945</td>\n      <td>0.829168</td>\n      <td>instagram-kevin-systrom.txt</td>\n    </tr>\n    <tr>\n      <th>1</th>\n      <td>0.598660</td>\n      <td>0.782782</td>\n      <td>0.609476</td>\n      <td>0.656638</td>\n      <td>0.829649</td>\n      <td>facebook-mark-zuckerberg.txt</td>\n    </tr>\n    <tr>\n      <th>2</th>\n      <td>0.586833</td>\n      <td>0.771245</td>\n      <td>0.639145</td>\n      <td>0.661032</td>\n      <td>0.830876</td>\n      <td>spotify-daniel-ek.txt</td>\n    </tr>\n    <tr>\n      <th>3</th>\n      <td>0.556791</td>\n      <td>0.775472</td>\n      <td>0.623224</td>\n      <td>0.655128</td>\n      <td>0.826246</td>\n      <td>twitter-ev-williams.txt</td>\n    </tr>\n  </tbody>\n</table>\n</div>", 
                        "text/plain": "   Conservation  Openness to change  Hedonism  Self-enhancement  \\\n0      0.575899            0.766610  0.633714          0.652945   \n1      0.598660            0.782782  0.609476          0.656638   \n2      0.586833            0.771245  0.639145          0.661032   \n3      0.556791            0.775472  0.623224          0.655128   \n\n   Self-transcendence                          file  \n0            0.829168   instagram-kevin-systrom.txt  \n1            0.829649  facebook-mark-zuckerberg.txt  \n2            0.830876         spotify-daniel-ek.txt  \n3            0.826246       twitter-ev-williams.txt  "
                    }, 
                    "output_type": "execute_result"
                }
            ], 
            "source": "values_df"
        }, 
        {
            "execution_count": 13, 
            "cell_type": "code", 
            "metadata": {}, 
            "outputs": [
                {
                    "execution_count": 13, 
                    "metadata": {}, 
                    "data": {
                        "text/html": "<div>\n<style scoped>\n    .dataframe tbody tr th:only-of-type {\n        vertical-align: middle;\n    }\n\n    .dataframe tbody tr th {\n        vertical-align: top;\n    }\n\n    .dataframe thead th {\n        text-align: right;\n    }\n</style>\n<table border=\"1\" class=\"dataframe\">\n  <thead>\n    <tr style=\"text-align: right;\">\n      <th></th>\n      <th>Health &amp; Activity Preferences</th>\n      <th>Environmental Concern Preferences</th>\n      <th>Entrepreneurship Preferences</th>\n      <th>Movie Preferences</th>\n      <th>Reading Preferences</th>\n      <th>Volunteering Preferences</th>\n      <th>file</th>\n    </tr>\n  </thead>\n  <tbody>\n    <tr>\n      <th>0</th>\n      <td>[outdoor]</td>\n      <td>[concerned_environment]</td>\n      <td>[start_business]</td>\n      <td>[movie_adventure, movie_musical, movie_histori...</td>\n      <td>[read_frequency, books_non_fiction, books_auto...</td>\n      <td>[volunteer]</td>\n      <td>instagram-kevin-systrom.txt</td>\n    </tr>\n    <tr>\n      <th>1</th>\n      <td>[outdoor]</td>\n      <td>[concerned_environment]</td>\n      <td>[start_business]</td>\n      <td>[movie_adventure, movie_historical, movie_scie...</td>\n      <td>[read_frequency, books_non_fiction, books_fina...</td>\n      <td>[volunteer]</td>\n      <td>facebook-mark-zuckerberg.txt</td>\n    </tr>\n    <tr>\n      <th>2</th>\n      <td>[outdoor]</td>\n      <td>[concerned_environment]</td>\n      <td>[]</td>\n      <td>[movie_adventure, movie_musical, movie_histori...</td>\n      <td>[read_frequency, books_non_fiction, books_auto...</td>\n      <td>[volunteer]</td>\n      <td>spotify-daniel-ek.txt</td>\n    </tr>\n    <tr>\n      <th>3</th>\n      <td>[outdoor]</td>\n      <td>[concerned_environment]</td>\n      <td>[start_business]</td>\n      <td>[movie_adventure, movie_historical, movie_scie...</td>\n      <td>[read_frequency, books_non_fiction, books_fina...</td>\n      <td>[volunteer]</td>\n      <td>twitter-ev-williams.txt</td>\n    </tr>\n  </tbody>\n</table>\n</div>", 
                        "text/plain": "  Health & Activity Preferences Environmental Concern Preferences  \\\n0                     [outdoor]           [concerned_environment]   \n1                     [outdoor]           [concerned_environment]   \n2                     [outdoor]           [concerned_environment]   \n3                     [outdoor]           [concerned_environment]   \n\n  Entrepreneurship Preferences  \\\n0             [start_business]   \n1             [start_business]   \n2                           []   \n3             [start_business]   \n\n                                   Movie Preferences  \\\n0  [movie_adventure, movie_musical, movie_histori...   \n1  [movie_adventure, movie_historical, movie_scie...   \n2  [movie_adventure, movie_musical, movie_histori...   \n3  [movie_adventure, movie_historical, movie_scie...   \n\n                                 Reading Preferences Volunteering Preferences  \\\n0  [read_frequency, books_non_fiction, books_auto...              [volunteer]   \n1  [read_frequency, books_non_fiction, books_fina...              [volunteer]   \n2  [read_frequency, books_non_fiction, books_auto...              [volunteer]   \n3  [read_frequency, books_non_fiction, books_fina...              [volunteer]   \n\n                           file  \n0   instagram-kevin-systrom.txt  \n1  facebook-mark-zuckerberg.txt  \n2         spotify-daniel-ek.txt  \n3       twitter-ev-williams.txt  "
                    }, 
                    "output_type": "execute_result"
                }
            ], 
            "source": "consumption_df"
        }, 
        {
            "execution_count": 14, 
            "cell_type": "code", 
            "metadata": {}, 
            "outputs": [
                {
                    "execution_count": 14, 
                    "metadata": {}, 
                    "data": {
                        "text/html": "<div>\n<style scoped>\n    .dataframe tbody tr th:only-of-type {\n        vertical-align: middle;\n    }\n\n    .dataframe tbody tr th {\n        vertical-align: top;\n    }\n\n    .dataframe thead th {\n        text-align: right;\n    }\n</style>\n<table border=\"1\" class=\"dataframe\">\n  <thead>\n    <tr style=\"text-align: right;\">\n      <th></th>\n      <th>Openness</th>\n      <th>Conscientiousness</th>\n      <th>Extraversion</th>\n      <th>Agreeableness</th>\n      <th>Emotional range</th>\n      <th>file</th>\n    </tr>\n  </thead>\n  <tbody>\n    <tr>\n      <th>0</th>\n      <td>0.800396</td>\n      <td>0.627016</td>\n      <td>0.523315</td>\n      <td>0.721635</td>\n      <td>0.497048</td>\n      <td>instagram-kevin-systrom.txt</td>\n    </tr>\n    <tr>\n      <th>1</th>\n      <td>0.795236</td>\n      <td>0.660267</td>\n      <td>0.512500</td>\n      <td>0.697280</td>\n      <td>0.497587</td>\n      <td>facebook-mark-zuckerberg.txt</td>\n    </tr>\n    <tr>\n      <th>2</th>\n      <td>0.791975</td>\n      <td>0.574534</td>\n      <td>0.455835</td>\n      <td>0.704284</td>\n      <td>0.473716</td>\n      <td>spotify-daniel-ek.txt</td>\n    </tr>\n    <tr>\n      <th>3</th>\n      <td>0.818073</td>\n      <td>0.633957</td>\n      <td>0.528237</td>\n      <td>0.721584</td>\n      <td>0.506147</td>\n      <td>twitter-ev-williams.txt</td>\n    </tr>\n  </tbody>\n</table>\n</div>", 
                        "text/plain": "   Openness  Conscientiousness  Extraversion  Agreeableness  Emotional range  \\\n0  0.800396           0.627016      0.523315       0.721635         0.497048   \n1  0.795236           0.660267      0.512500       0.697280         0.497587   \n2  0.791975           0.574534      0.455835       0.704284         0.473716   \n3  0.818073           0.633957      0.528237       0.721584         0.506147   \n\n                           file  \n0   instagram-kevin-systrom.txt  \n1  facebook-mark-zuckerberg.txt  \n2         spotify-daniel-ek.txt  \n3       twitter-ev-williams.txt  "
                    }, 
                    "output_type": "execute_result"
                }
            ], 
            "source": "all_personality_df"
        }, 
        {
            "execution_count": 15, 
            "cell_type": "code", 
            "metadata": {}, 
            "outputs": [
                {
                    "execution_count": 15, 
                    "metadata": {}, 
                    "data": {
                        "text/html": "<div>\n<style scoped>\n    .dataframe tbody tr th:only-of-type {\n        vertical-align: middle;\n    }\n\n    .dataframe tbody tr th {\n        vertical-align: top;\n    }\n\n    .dataframe thead th {\n        text-align: right;\n    }\n</style>\n<table border=\"1\" class=\"dataframe\">\n  <thead>\n    <tr style=\"text-align: right;\">\n      <th></th>\n      <th>Adventurousness</th>\n      <th>Artistic interests</th>\n      <th>Emotionality</th>\n      <th>Imagination</th>\n      <th>Intellect</th>\n      <th>Authority-challenging</th>\n      <th>file</th>\n    </tr>\n  </thead>\n  <tbody>\n    <tr>\n      <th>0</th>\n      <td>0.519717</td>\n      <td>0.727920</td>\n      <td>0.669370</td>\n      <td>0.709328</td>\n      <td>0.712264</td>\n      <td>0.628538</td>\n      <td>instagram-kevin-systrom.txt</td>\n    </tr>\n    <tr>\n      <th>1</th>\n      <td>0.541532</td>\n      <td>0.691450</td>\n      <td>0.643814</td>\n      <td>0.691068</td>\n      <td>0.722693</td>\n      <td>0.623718</td>\n      <td>facebook-mark-zuckerberg.txt</td>\n    </tr>\n    <tr>\n      <th>2</th>\n      <td>0.529975</td>\n      <td>0.716827</td>\n      <td>0.678005</td>\n      <td>0.730441</td>\n      <td>0.736404</td>\n      <td>0.647658</td>\n      <td>spotify-daniel-ek.txt</td>\n    </tr>\n    <tr>\n      <th>3</th>\n      <td>0.536035</td>\n      <td>0.733576</td>\n      <td>0.670893</td>\n      <td>0.746914</td>\n      <td>0.741595</td>\n      <td>0.667499</td>\n      <td>twitter-ev-williams.txt</td>\n    </tr>\n  </tbody>\n</table>\n</div>", 
                        "text/plain": "   Adventurousness  Artistic interests  Emotionality  Imagination  Intellect  \\\n0         0.519717            0.727920      0.669370     0.709328   0.712264   \n1         0.541532            0.691450      0.643814     0.691068   0.722693   \n2         0.529975            0.716827      0.678005     0.730441   0.736404   \n3         0.536035            0.733576      0.670893     0.746914   0.741595   \n\n   Authority-challenging                          file  \n0               0.628538   instagram-kevin-systrom.txt  \n1               0.623718  facebook-mark-zuckerberg.txt  \n2               0.647658         spotify-daniel-ek.txt  \n3               0.667499       twitter-ev-williams.txt  "
                    }, 
                    "output_type": "execute_result"
                }
            ], 
            "source": "openness_df"
        }, 
        {
            "execution_count": 16, 
            "cell_type": "code", 
            "metadata": {}, 
            "outputs": [
                {
                    "execution_count": 16, 
                    "metadata": {}, 
                    "data": {
                        "text/html": "<div>\n<style scoped>\n    .dataframe tbody tr th:only-of-type {\n        vertical-align: middle;\n    }\n\n    .dataframe tbody tr th {\n        vertical-align: top;\n    }\n\n    .dataframe thead th {\n        text-align: right;\n    }\n</style>\n<table border=\"1\" class=\"dataframe\">\n  <thead>\n    <tr style=\"text-align: right;\">\n      <th></th>\n      <th>Achievement striving</th>\n      <th>Cautiousness</th>\n      <th>Dutifulness</th>\n      <th>Orderliness</th>\n      <th>Self-discipline</th>\n      <th>Self-efficacy</th>\n      <th>file</th>\n    </tr>\n  </thead>\n  <tbody>\n    <tr>\n      <th>0</th>\n      <td>0.675763</td>\n      <td>0.615348</td>\n      <td>0.680129</td>\n      <td>0.440515</td>\n      <td>0.530816</td>\n      <td>0.697531</td>\n      <td>instagram-kevin-systrom.txt</td>\n    </tr>\n    <tr>\n      <th>1</th>\n      <td>0.728193</td>\n      <td>0.613682</td>\n      <td>0.681686</td>\n      <td>0.449990</td>\n      <td>0.574116</td>\n      <td>0.761576</td>\n      <td>facebook-mark-zuckerberg.txt</td>\n    </tr>\n    <tr>\n      <th>2</th>\n      <td>0.686923</td>\n      <td>0.588714</td>\n      <td>0.682981</td>\n      <td>0.429911</td>\n      <td>0.521362</td>\n      <td>0.723693</td>\n      <td>spotify-daniel-ek.txt</td>\n    </tr>\n    <tr>\n      <th>3</th>\n      <td>0.699108</td>\n      <td>0.590725</td>\n      <td>0.683971</td>\n      <td>0.436252</td>\n      <td>0.530293</td>\n      <td>0.722200</td>\n      <td>twitter-ev-williams.txt</td>\n    </tr>\n  </tbody>\n</table>\n</div>", 
                        "text/plain": "   Achievement striving  Cautiousness  Dutifulness  Orderliness  \\\n0              0.675763      0.615348     0.680129     0.440515   \n1              0.728193      0.613682     0.681686     0.449990   \n2              0.686923      0.588714     0.682981     0.429911   \n3              0.699108      0.590725     0.683971     0.436252   \n\n   Self-discipline  Self-efficacy                          file  \n0         0.530816       0.697531   instagram-kevin-systrom.txt  \n1         0.574116       0.761576  facebook-mark-zuckerberg.txt  \n2         0.521362       0.723693         spotify-daniel-ek.txt  \n3         0.530293       0.722200       twitter-ev-williams.txt  "
                    }, 
                    "output_type": "execute_result"
                }
            ], 
            "source": "conscientiousness_df"
        }, 
        {
            "execution_count": 17, 
            "cell_type": "code", 
            "metadata": {}, 
            "outputs": [
                {
                    "execution_count": 17, 
                    "metadata": {}, 
                    "data": {
                        "text/html": "<div>\n<style scoped>\n    .dataframe tbody tr th:only-of-type {\n        vertical-align: middle;\n    }\n\n    .dataframe tbody tr th {\n        vertical-align: top;\n    }\n\n    .dataframe thead th {\n        text-align: right;\n    }\n</style>\n<table border=\"1\" class=\"dataframe\">\n  <thead>\n    <tr style=\"text-align: right;\">\n      <th></th>\n      <th>Activity level</th>\n      <th>Assertiveness</th>\n      <th>Cheerfulness</th>\n      <th>Excitement-seeking</th>\n      <th>Outgoing</th>\n      <th>Gregariousness</th>\n      <th>file</th>\n    </tr>\n  </thead>\n  <tbody>\n    <tr>\n      <th>0</th>\n      <td>0.534139</td>\n      <td>0.633161</td>\n      <td>0.583899</td>\n      <td>0.517096</td>\n      <td>0.494154</td>\n      <td>0.375204</td>\n      <td>instagram-kevin-systrom.txt</td>\n    </tr>\n    <tr>\n      <th>1</th>\n      <td>0.616067</td>\n      <td>0.702512</td>\n      <td>0.587455</td>\n      <td>0.548125</td>\n      <td>0.557755</td>\n      <td>0.428105</td>\n      <td>facebook-mark-zuckerberg.txt</td>\n    </tr>\n    <tr>\n      <th>2</th>\n      <td>0.538444</td>\n      <td>0.631072</td>\n      <td>0.571256</td>\n      <td>0.544202</td>\n      <td>0.492812</td>\n      <td>0.362288</td>\n      <td>spotify-daniel-ek.txt</td>\n    </tr>\n    <tr>\n      <th>3</th>\n      <td>0.570366</td>\n      <td>0.646632</td>\n      <td>0.580420</td>\n      <td>0.535335</td>\n      <td>0.514934</td>\n      <td>0.370557</td>\n      <td>twitter-ev-williams.txt</td>\n    </tr>\n  </tbody>\n</table>\n</div>", 
                        "text/plain": "   Activity level  Assertiveness  Cheerfulness  Excitement-seeking  Outgoing  \\\n0        0.534139       0.633161      0.583899            0.517096  0.494154   \n1        0.616067       0.702512      0.587455            0.548125  0.557755   \n2        0.538444       0.631072      0.571256            0.544202  0.492812   \n3        0.570366       0.646632      0.580420            0.535335  0.514934   \n\n   Gregariousness                          file  \n0        0.375204   instagram-kevin-systrom.txt  \n1        0.428105  facebook-mark-zuckerberg.txt  \n2        0.362288         spotify-daniel-ek.txt  \n3        0.370557       twitter-ev-williams.txt  "
                    }, 
                    "output_type": "execute_result"
                }
            ], 
            "source": "extraversion_df"
        }, 
        {
            "execution_count": 18, 
            "cell_type": "code", 
            "metadata": {}, 
            "outputs": [
                {
                    "execution_count": 18, 
                    "metadata": {}, 
                    "data": {
                        "text/html": "<div>\n<style scoped>\n    .dataframe tbody tr th:only-of-type {\n        vertical-align: middle;\n    }\n\n    .dataframe tbody tr th {\n        vertical-align: top;\n    }\n\n    .dataframe thead th {\n        text-align: right;\n    }\n</style>\n<table border=\"1\" class=\"dataframe\">\n  <thead>\n    <tr style=\"text-align: right;\">\n      <th></th>\n      <th>Altruism</th>\n      <th>Cooperation</th>\n      <th>Modesty</th>\n      <th>Uncompromising</th>\n      <th>Sympathy</th>\n      <th>Trust</th>\n      <th>file</th>\n    </tr>\n  </thead>\n  <tbody>\n    <tr>\n      <th>0</th>\n      <td>0.732964</td>\n      <td>0.655640</td>\n      <td>0.485216</td>\n      <td>0.697863</td>\n      <td>0.711541</td>\n      <td>0.598488</td>\n      <td>instagram-kevin-systrom.txt</td>\n    </tr>\n    <tr>\n      <th>1</th>\n      <td>0.743622</td>\n      <td>0.646228</td>\n      <td>0.450045</td>\n      <td>0.674064</td>\n      <td>0.719749</td>\n      <td>0.639157</td>\n      <td>facebook-mark-zuckerberg.txt</td>\n    </tr>\n    <tr>\n      <th>2</th>\n      <td>0.744824</td>\n      <td>0.665624</td>\n      <td>0.482940</td>\n      <td>0.705629</td>\n      <td>0.738680</td>\n      <td>0.613193</td>\n      <td>spotify-daniel-ek.txt</td>\n    </tr>\n    <tr>\n      <th>3</th>\n      <td>0.752197</td>\n      <td>0.669407</td>\n      <td>0.454430</td>\n      <td>0.683956</td>\n      <td>0.753108</td>\n      <td>0.631402</td>\n      <td>twitter-ev-williams.txt</td>\n    </tr>\n  </tbody>\n</table>\n</div>", 
                        "text/plain": "   Altruism  Cooperation   Modesty  Uncompromising  Sympathy     Trust  \\\n0  0.732964     0.655640  0.485216        0.697863  0.711541  0.598488   \n1  0.743622     0.646228  0.450045        0.674064  0.719749  0.639157   \n2  0.744824     0.665624  0.482940        0.705629  0.738680  0.613193   \n3  0.752197     0.669407  0.454430        0.683956  0.753108  0.631402   \n\n                           file  \n0   instagram-kevin-systrom.txt  \n1  facebook-mark-zuckerberg.txt  \n2         spotify-daniel-ek.txt  \n3       twitter-ev-williams.txt  "
                    }, 
                    "output_type": "execute_result"
                }
            ], 
            "source": "agreeableness_df"
        }, 
        {
            "execution_count": 19, 
            "cell_type": "code", 
            "metadata": {}, 
            "outputs": [
                {
                    "execution_count": 19, 
                    "metadata": {}, 
                    "data": {
                        "text/html": "<div>\n<style scoped>\n    .dataframe tbody tr th:only-of-type {\n        vertical-align: middle;\n    }\n\n    .dataframe tbody tr th {\n        vertical-align: top;\n    }\n\n    .dataframe thead th {\n        text-align: right;\n    }\n</style>\n<table border=\"1\" class=\"dataframe\">\n  <thead>\n    <tr style=\"text-align: right;\">\n      <th></th>\n      <th>Fiery</th>\n      <th>Prone to worry</th>\n      <th>Melancholy</th>\n      <th>Immoderation</th>\n      <th>Self-consciousness</th>\n      <th>Susceptible to stress</th>\n      <th>file</th>\n    </tr>\n  </thead>\n  <tbody>\n    <tr>\n      <th>0</th>\n      <td>0.437068</td>\n      <td>0.532793</td>\n      <td>0.481805</td>\n      <td>0.518504</td>\n      <td>0.576679</td>\n      <td>0.476039</td>\n      <td>instagram-kevin-systrom.txt</td>\n    </tr>\n    <tr>\n      <th>1</th>\n      <td>0.410326</td>\n      <td>0.532186</td>\n      <td>0.441051</td>\n      <td>0.498628</td>\n      <td>0.552278</td>\n      <td>0.429566</td>\n      <td>facebook-mark-zuckerberg.txt</td>\n    </tr>\n    <tr>\n      <th>2</th>\n      <td>0.422803</td>\n      <td>0.555647</td>\n      <td>0.493483</td>\n      <td>0.525057</td>\n      <td>0.608136</td>\n      <td>0.469477</td>\n      <td>spotify-daniel-ek.txt</td>\n    </tr>\n    <tr>\n      <th>3</th>\n      <td>0.444969</td>\n      <td>0.567656</td>\n      <td>0.477213</td>\n      <td>0.497748</td>\n      <td>0.595427</td>\n      <td>0.477262</td>\n      <td>twitter-ev-williams.txt</td>\n    </tr>\n  </tbody>\n</table>\n</div>", 
                        "text/plain": "      Fiery  Prone to worry  Melancholy  Immoderation  Self-consciousness  \\\n0  0.437068        0.532793    0.481805      0.518504            0.576679   \n1  0.410326        0.532186    0.441051      0.498628            0.552278   \n2  0.422803        0.555647    0.493483      0.525057            0.608136   \n3  0.444969        0.567656    0.477213      0.497748            0.595427   \n\n   Susceptible to stress                          file  \n0               0.476039   instagram-kevin-systrom.txt  \n1               0.429566  facebook-mark-zuckerberg.txt  \n2               0.469477         spotify-daniel-ek.txt  \n3               0.477262       twitter-ev-williams.txt  "
                    }, 
                    "output_type": "execute_result"
                }
            ], 
            "source": "emotional_range_df"
        }, 
        {
            "source": "Merge all datasets so it is easy to extract information:", 
            "cell_type": "markdown", 
            "metadata": {}
        }, 
        {
            "execution_count": 20, 
            "cell_type": "code", 
            "metadata": {}, 
            "outputs": [], 
            "source": "from functools import reduce\ndfs = [needs_df, values_df, openness_df, conscientiousness_df,extraversion_df,agreeableness_df,emotional_range_df]\ncandidates_df_final = reduce(lambda left,right: pd.merge(left,right,on='file'), dfs)"
        }, 
        {
            "source": "# 6. IBM 1-3-9", 
            "cell_type": "markdown", 
            "metadata": {}
        }, 
        {
            "source": "The IBM's 139 practices are taken as a basis to determine the qualified matches:", 
            "cell_type": "markdown", 
            "metadata": {}
        }, 
        {
            "source": "<img src=\"https://upload.wikimedia.org/wikipedia/commons/1/1d/IBM_values.png\" alt=\"IBM 139\" style=\"width: 700px; height: 300px;\"/>", 
            "cell_type": "markdown", 
            "metadata": {}
        }, 
        {
            "source": "- Dedication to every client's success requires skills: Curiosity, Practicality, Self-transcendence.\n- Innovation that matters for our company and for the world requires skills: Self-enhancement, Imagination, Intellect.\n- Trust and personal responsibility in all relationships requires skills: Trust, Dutifulness, Cooperation. ", 
            "cell_type": "markdown", 
            "metadata": {}
        }, 
        {
            "execution_count": 21, 
            "cell_type": "code", 
            "metadata": {}, 
            "outputs": [], 
            "source": "def company_match(candidates):\n    \"\"\" \n    Calculates the match based on company values. Returns Euclidian distance based similarity. \n    \n    candidates - dateframe of candidates \n    \"\"\"\n    skills = ['Curiosity', 'Practicality', 'Self-transcendence',\n              'Self-enhancement','Imagination', 'Intellect',\n              'Trust', 'Dutifulness', 'Cooperation']\n    \n    s = np.ones(len(skills))\n    dist = np.linalg.norm(np.array(candidates[skills]) - s)\n    similarity = 1/(1+dist)\n    \n    return similarity"
        }, 
        {
            "execution_count": 22, 
            "cell_type": "code", 
            "metadata": {}, 
            "outputs": [], 
            "source": "candidates_df_final['company_match'] = candidates_df_final.apply(company_match,axis=1)\ncandidates_df_final.sort_values(by='company_match',ascending=False,inplace=True)"
        }, 
        {
            "execution_count": 23, 
            "cell_type": "code", 
            "metadata": {}, 
            "outputs": [
                {
                    "execution_count": 23, 
                    "metadata": {}, 
                    "data": {
                        "text/html": "<div>\n<style scoped>\n    .dataframe tbody tr th:only-of-type {\n        vertical-align: middle;\n    }\n\n    .dataframe tbody tr th {\n        vertical-align: top;\n    }\n\n    .dataframe thead th {\n        text-align: right;\n    }\n</style>\n<table border=\"1\" class=\"dataframe\">\n  <thead>\n    <tr style=\"text-align: right;\">\n      <th></th>\n      <th>file</th>\n      <th>company_match</th>\n    </tr>\n  </thead>\n  <tbody>\n    <tr>\n      <th>3</th>\n      <td>twitter-ev-williams.txt</td>\n      <td>0.537557</td>\n    </tr>\n    <tr>\n      <th>2</th>\n      <td>spotify-daniel-ek.txt</td>\n      <td>0.533902</td>\n    </tr>\n    <tr>\n      <th>1</th>\n      <td>facebook-mark-zuckerberg.txt</td>\n      <td>0.528985</td>\n    </tr>\n    <tr>\n      <th>0</th>\n      <td>instagram-kevin-systrom.txt</td>\n      <td>0.524687</td>\n    </tr>\n  </tbody>\n</table>\n</div>", 
                        "text/plain": "                           file  company_match\n3       twitter-ev-williams.txt       0.537557\n2         spotify-daniel-ek.txt       0.533902\n1  facebook-mark-zuckerberg.txt       0.528985\n0   instagram-kevin-systrom.txt       0.524687"
                    }, 
                    "output_type": "execute_result"
                }
            ], 
            "source": "candidates_df_final[['file','company_match']]"
        }, 
        {
            "source": "Based on the interests of candidates managers will have an opportunity to recommend facilities and activities at IBM that candidates may enjoy:", 
            "cell_type": "markdown", 
            "metadata": {}
        }, 
        {
            "execution_count": 24, 
            "cell_type": "code", 
            "metadata": {}, 
            "outputs": [], 
            "source": "def recommend_activities(activity):\n    recommendation = \"Candidate would like to know about {}.\"\n    lst = []\n    if set(['gym_membership']).intersection(activity['Health & Activity Preferences']):\n        lst.append('on-site gym')\n    if set(['eat_out']).intersection(activity['Health & Activity Preferences']):\n        lst.append('cafeteria')\n    if set(['read_frequency']).intersection(activity['Reading Preferences']):\n        lst.append('on-site library')\n    if set(['start_business']).intersection(activity['Entrepreneurship Preferences']):\n        lst.append('Area 631')\n    if set(['volunteer']).intersection(activity['Volunteering Preferences']):\n        lst.append('ECF')\n    if len(activity['Movie Preferences']) >= 1:\n        lst.append('Amphitheatre movie days')\n        \n    return recommendation.format(\", \".join(lst))"
        }, 
        {
            "execution_count": 25, 
            "cell_type": "code", 
            "metadata": {}, 
            "outputs": [], 
            "source": "consumption_df['Recommend Activities'] = consumption_df.apply(recommend_activities,axis = 1)"
        }, 
        {
            "execution_count": 26, 
            "cell_type": "code", 
            "metadata": {}, 
            "outputs": [
                {
                    "execution_count": 26, 
                    "metadata": {}, 
                    "data": {
                        "text/html": "<div>\n<style scoped>\n    .dataframe tbody tr th:only-of-type {\n        vertical-align: middle;\n    }\n\n    .dataframe tbody tr th {\n        vertical-align: top;\n    }\n\n    .dataframe thead th {\n        text-align: right;\n    }\n</style>\n<table border=\"1\" class=\"dataframe\">\n  <thead>\n    <tr style=\"text-align: right;\">\n      <th></th>\n      <th>file</th>\n      <th>Recommend Activities</th>\n    </tr>\n  </thead>\n  <tbody>\n    <tr>\n      <th>0</th>\n      <td>instagram-kevin-systrom.txt</td>\n      <td>Candidate would like to know about on-site lib...</td>\n    </tr>\n    <tr>\n      <th>1</th>\n      <td>facebook-mark-zuckerberg.txt</td>\n      <td>Candidate would like to know about on-site lib...</td>\n    </tr>\n    <tr>\n      <th>2</th>\n      <td>spotify-daniel-ek.txt</td>\n      <td>Candidate would like to know about on-site lib...</td>\n    </tr>\n    <tr>\n      <th>3</th>\n      <td>twitter-ev-williams.txt</td>\n      <td>Candidate would like to know about on-site lib...</td>\n    </tr>\n  </tbody>\n</table>\n</div>", 
                        "text/plain": "                           file  \\\n0   instagram-kevin-systrom.txt   \n1  facebook-mark-zuckerberg.txt   \n2         spotify-daniel-ek.txt   \n3       twitter-ev-williams.txt   \n\n                                Recommend Activities  \n0  Candidate would like to know about on-site lib...  \n1  Candidate would like to know about on-site lib...  \n2  Candidate would like to know about on-site lib...  \n3  Candidate would like to know about on-site lib...  "
                    }, 
                    "output_type": "execute_result"
                }
            ], 
            "source": "consumption_df[['file','Recommend Activities']]"
        }, 
        {
            "source": "# 7. Role and Team Match", 
            "cell_type": "markdown", 
            "metadata": {}
        }, 
        {
            "source": "LIMIT TO 5 ESSENTIAL SKILLS FOR YOUR TEAM:\n\n* Positive attitude\n* Communication \n* Teamwork\n* Self-management - Multitasking, Adapting to changes, Flexibility\n* Willingness to learn\n* Thinking skills (problem solving and decision making) \n* Resilience\n* Creativity\n* Leadership/Management skills/ Team player\n* Strong work values \u2014 Dependability, honesty, selfconfidence and a positive attitude are prized qualities in any profession. Employers look for personal integrity.\n* Negotiation and persuasion\n* Perseverance and motivation\n* Enthusiasm \n* Ability to work under pressure\n* Confidence", 
            "cell_type": "markdown", 
            "metadata": {}
        }, 
        {
            "execution_count": 27, 
            "cell_type": "code", 
            "metadata": {}, 
            "outputs": [], 
            "source": "def team_match(skills, candidates):\n    pass"
        }, 
        {
            "execution_count": 33, 
            "cell_type": "code", 
            "metadata": {}, 
            "outputs": [
                {
                    "execution_count": 33, 
                    "metadata": {}, 
                    "data": {
                        "text/html": "<div>\n<style scoped>\n    .dataframe tbody tr th:only-of-type {\n        vertical-align: middle;\n    }\n\n    .dataframe tbody tr th {\n        vertical-align: top;\n    }\n\n    .dataframe thead th {\n        text-align: right;\n    }\n</style>\n<table border=\"1\" class=\"dataframe\">\n  <thead>\n    <tr style=\"text-align: right;\">\n      <th></th>\n      <th>Challenge</th>\n      <th>Closeness</th>\n      <th>Curiosity</th>\n      <th>Excitement</th>\n      <th>Harmony</th>\n      <th>Ideal</th>\n      <th>Liberty</th>\n      <th>Love</th>\n      <th>Practicality</th>\n      <th>Self-expression</th>\n      <th>Stability</th>\n      <th>Structure</th>\n    </tr>\n  </thead>\n  <tbody>\n    <tr>\n      <th>0</th>\n      <td>0.687388</td>\n      <td>0.737678</td>\n      <td>0.827021</td>\n      <td>0.553379</td>\n      <td>0.758527</td>\n      <td>0.643312</td>\n      <td>0.694281</td>\n      <td>0.691013</td>\n      <td>0.697178</td>\n      <td>0.646145</td>\n      <td>0.707389</td>\n      <td>0.694753</td>\n    </tr>\n  </tbody>\n</table>\n</div>", 
                        "text/plain": "   Challenge  Closeness  Curiosity  Excitement   Harmony     Ideal   Liberty  \\\n0   0.687388   0.737678   0.827021    0.553379  0.758527  0.643312  0.694281   \n\n       Love  Practicality  Self-expression  Stability  Structure  \n0  0.691013      0.697178         0.646145   0.707389   0.694753  "
                    }, 
                    "output_type": "execute_result"
                }
            ], 
            "source": "needs_df.loc[needs_df['file'] == 'instagram-kevin-systrom.txt',needs_df.columns != 'file']"
        }, 
        {
            "source": "# 8. Compare Candidates", 
            "cell_type": "markdown", 
            "metadata": {}
        }, 
        {
            "execution_count": 262, 
            "cell_type": "code", 
            "metadata": {}, 
            "outputs": [
                {
                    "execution_count": 262, 
                    "metadata": {}, 
                    "data": {
                        "text/html": "<div>\n<style scoped>\n    .dataframe tbody tr th:only-of-type {\n        vertical-align: middle;\n    }\n\n    .dataframe tbody tr th {\n        vertical-align: top;\n    }\n\n    .dataframe thead th {\n        text-align: right;\n    }\n</style>\n<table border=\"1\" class=\"dataframe\">\n  <thead>\n    <tr style=\"text-align: right;\">\n      <th></th>\n      <th>Need</th>\n      <th>Description</th>\n    </tr>\n  </thead>\n  <tbody>\n    <tr>\n      <th>0</th>\n      <td>Challenge</td>\n      <td>have an urge to achieve, to succeed, and to ta...</td>\n    </tr>\n    <tr>\n      <th>1</th>\n      <td>Closeness</td>\n      <td>relish being connected to family and setting u...</td>\n    </tr>\n    <tr>\n      <th>2</th>\n      <td>Curiosity</td>\n      <td>have a desire to discover, find out, and grow</td>\n    </tr>\n    <tr>\n      <th>3</th>\n      <td>Excitement</td>\n      <td>want to get out there and live life, have upbe...</td>\n    </tr>\n    <tr>\n      <th>4</th>\n      <td>Harmony</td>\n      <td>appreciate other people, their viewpoints and ...</td>\n    </tr>\n  </tbody>\n</table>\n</div>", 
                        "text/plain": "         Need                                        Description\n0   Challenge  have an urge to achieve, to succeed, and to ta...\n1   Closeness  relish being connected to family and setting u...\n2   Curiosity      have a desire to discover, find out, and grow\n3  Excitement  want to get out there and live life, have upbe...\n4     Harmony  appreciate other people, their viewpoints and ..."
                    }, 
                    "output_type": "execute_result"
                }
            ], 
            "source": "body = client_0f8d8b468baa4efa9c29025ebc262fe5.get_object(Bucket='insideout-donotdelete-pr-arlsgjghrogjm7',Key='Describe_Needs.csv')['Body']\n# add missing __iter__ method, so pandas accepts body as file-like object\nif not hasattr(body, \"__iter__\"): body.__iter__ = types.MethodType( __iter__, body )\n\ndescribe_needs = pd.read_csv(body)\ndescribe_needs.head()"
        }, 
        {
            "execution_count": 263, 
            "cell_type": "code", 
            "metadata": {}, 
            "outputs": [
                {
                    "execution_count": 263, 
                    "metadata": {}, 
                    "data": {
                        "text/html": "<div>\n<style scoped>\n    .dataframe tbody tr th:only-of-type {\n        vertical-align: middle;\n    }\n\n    .dataframe tbody tr th {\n        vertical-align: top;\n    }\n\n    .dataframe thead th {\n        text-align: right;\n    }\n</style>\n<table border=\"1\" class=\"dataframe\">\n  <thead>\n    <tr style=\"text-align: right;\">\n      <th></th>\n      <th>Value</th>\n      <th>Description</th>\n    </tr>\n  </thead>\n  <tbody>\n    <tr>\n      <th>0</th>\n      <td>Conservation</td>\n      <td>emphasize self-restriction, order, and resista...</td>\n    </tr>\n    <tr>\n      <th>1</th>\n      <td>Openness to change</td>\n      <td>emphasize independent action, thought, and fee...</td>\n    </tr>\n    <tr>\n      <th>2</th>\n      <td>Hedonism</td>\n      <td>seek pleasure and sensuous gratification</td>\n    </tr>\n    <tr>\n      <th>3</th>\n      <td>Self-enhancement</td>\n      <td>seek personal success</td>\n    </tr>\n    <tr>\n      <th>4</th>\n      <td>Self-transcendence</td>\n      <td>show concern for the welfare and interests of ...</td>\n    </tr>\n  </tbody>\n</table>\n</div>", 
                        "text/plain": "                Value                                        Description\n0        Conservation  emphasize self-restriction, order, and resista...\n1  Openness to change  emphasize independent action, thought, and fee...\n2            Hedonism          seek pleasure and sensuous gratification \n3    Self-enhancement                              seek personal success\n4  Self-transcendence  show concern for the welfare and interests of ..."
                    }, 
                    "output_type": "execute_result"
                }
            ], 
            "source": "body = client_0f8d8b468baa4efa9c29025ebc262fe5.get_object(Bucket='insideout-donotdelete-pr-arlsgjghrogjm7',Key='Describe_Values.csv')['Body']\n# add missing __iter__ method, so pandas accepts body as file-like object\nif not hasattr(body, \"__iter__\"): body.__iter__ = types.MethodType( __iter__, body )\ndescribe_values = pd.read_csv(body)\ndescribe_values.head()"
        }, 
        {
            "execution_count": 5, 
            "cell_type": "code", 
            "metadata": {}, 
            "outputs": [], 
            "source": "def compare_needs_and_values(candidate_one,candidate_two,trait):\n    \"\"\"\n    Compares either needs or values and returns a dictionary: overall similarity score, similarities, differences, and highlights.\n    \n    candidate_one - name of first candidate \n    candidate_two - name of second candidate\n    \n    trait - 'Need' or 'Value'\n    \n    \"\"\"\n    \n    if trait == 'Need':\n        df = needs_df.copy()\n        description = describe_needs.copy()\n    elif trait == 'Value':\n        df = values_df.copy()\n        description = describe_values.copy()\n        \n    skills_one = df.loc[df['file'] == candidate_one,df.columns != 'file']\n    skills_two = df.loc[df['file'] == candidate_two,df.columns != 'file']\n    \n    dist = np.linalg.norm(np.array(skills_one) - np.array(skills_two))\n    similarity = 1/(1+dist)\n    \n    scores = skills_one.T.squeeze()-skills_two.T.squeeze()\n    scores_text = scores.apply(lambda n: 'more' if n > 0 else 'less')\n    skills_text = skills_one.T.squeeze().apply(lambda n: 'likely' if n >= 0.5 else 'less likely')\n    \n    similarities = list(np.abs(scores).sort_values().head(2).index)\n    s_text = description.loc[description[trait].isin(similarities),'Description'].reset_index(drop=True)\n    similarities_text = \"Both are {} to {}. Also they are {} to {}.\".format(skills_text[similarities][0], s_text[0], \n                                                                                        skills_text[similarities][1], s_text[1])\n    \n    differences = list(np.abs(scores).sort_values(ascending=False).head(2).index)\n    d_text = description.loc[description[trait].isin(differences),'Description'].reset_index(drop=True)\n    differences_text = \"{} is {} likely to {}. Also he/she is {} likely than {} to {}.\".format(candidate_one, \n                                                                                               scores_text[differences][0], \n                                                                                               d_text[0], \n                                                                                               scores_text[differences][1], \n                                                                                               candidate_two,\n                                                                                               d_text[1])\n    \n    candidate_one_similarity_scores = skills_one.T.squeeze()[similarities].to_dict()\n    candidate_two_similarity_scores = skills_two.T.squeeze()[similarities].to_dict()\n    candidate_one_difference_scores = skills_one.T.squeeze()[differences].to_dict()\n    candidate_two_difference_scores = skills_two.T.squeeze()[differences].to_dict()\n    \n    return {'similarity_score_{}'.format(trait): similarity, \n            'candidate_one_similarities_{}'.format(trait):candidate_one_similarity_scores,\n            'candidate_two_similarities_{}'.format(trait):candidate_two_similarity_scores,\n            'candidate_one_differences_{}'.format(trait):candidate_one_difference_scores,\n            'candidate_two_differences_{}'.format(trait):candidate_two_difference_scores,\n            'similarities_text_{}'.format(trait): similarities_text,\n            'differences_text_{}'.format(trait): differences_text}"
        }, 
        {
            "execution_count": 6, 
            "cell_type": "code", 
            "metadata": {}, 
            "outputs": [], 
            "source": "def compare_personality(candidate_one,candidate_two,trait):\n    \"\"\"\n    Compares personalities and returns a dictionary: overall similarity score, similarities, differences, and highlights.\n    \n    candidate_one - name of first candidate \n    candidate_two - name of second candidate\n    \n    trait - 'Personality' or 'Big Five'\n    \n    \"\"\"\n    if trait == 'Personality':\n        df = all_personality_df.copy()\n    elif trait == 'Big Five':\n        dfs = [openness_df, conscientiousness_df,extraversion_df,agreeableness_df,emotional_range_df]\n        df = reduce(lambda left,right: pd.merge(left,right,on='file'), dfs)\n    return None"
        }, 
        {
            "execution_count": null, 
            "cell_type": "code", 
            "metadata": {}, 
            "outputs": [], 
            "source": ""
        }
    ], 
    "metadata": {
        "kernelspec": {
            "display_name": "Python 3.5 with Spark 2.1", 
            "name": "python3-spark21", 
            "language": "python"
        }, 
        "language_info": {
            "mimetype": "text/x-python", 
            "nbconvert_exporter": "python", 
            "version": "3.5.4", 
            "name": "python", 
            "file_extension": ".py", 
            "pygments_lexer": "ipython3", 
            "codemirror_mode": {
                "version": 3, 
                "name": "ipython"
            }
        }
    }, 
    "nbformat": 4
}